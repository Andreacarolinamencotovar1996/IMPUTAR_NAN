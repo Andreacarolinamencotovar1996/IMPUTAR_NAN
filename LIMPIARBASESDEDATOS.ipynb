{
  "nbformat": 4,
  "nbformat_minor": 0,
  "metadata": {
    "colab": {
      "name": "LIMPIARBASESDEDATOS.ipynb",
      "provenance": []
    },
    "kernelspec": {
      "name": "python3",
      "display_name": "Python 3"
    },
    "language_info": {
      "name": "python"
    }
  },
  "cells": [
    {
      "cell_type": "code",
      "execution_count": null,
      "metadata": {
        "id": "X1DX1vBJht2v"
      },
      "outputs": [],
      "source": [
        "import numpy as np\n",
        "import matplotlib.pyplot as plt\n",
        "import pandas as pd \n",
        "import seaborn as sns # Para graficar de manera más llamativa."
      ]
    },
    {
      "cell_type": "markdown",
      "source": [
        "**Primeramente se llaman las librerias con las cuales deseo trabajar.**"
      ],
      "metadata": {
        "id": "3Fh4dydUlOgv"
      }
    },
    {
      "cell_type": "code",
      "source": [
        "import random \n",
        "np.random.seed (2013)"
      ],
      "metadata": {
        "id": "kGnuNw5L4Zt9"
      },
      "execution_count": null,
      "outputs": []
    },
    {
      "cell_type": "markdown",
      "source": [
        "**Con el fin de que siempre que el siguiente codigo sea corrido presente el mismo resultado se ha sembrado esta semilla.**"
      ],
      "metadata": {
        "id": "uJJHk0qAjEpk"
      }
    },
    {
      "cell_type": "code",
      "source": [
        "from google.colab import files \n",
        "uploaded= files.upload ()"
      ],
      "metadata": {
        "colab": {
          "resources": {
            "http://localhost:8080/nbextensions/google.colab/files.js": {
              "data": "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",
              "ok": true,
              "headers": [
                [
                  "content-type",
                  "application/javascript"
                ]
              ],
              "status": 200,
              "status_text": ""
            }
          },
          "base_uri": "https://localhost:8080/",
          "height": 74
        },
        "id": "fUp_ZSkGo7bW",
        "outputId": "9294f46a-6e22-4b34-ccbf-5c6779d359f8"
      },
      "execution_count": null,
      "outputs": [
        {
          "output_type": "display_data",
          "data": {
            "text/plain": [
              "<IPython.core.display.HTML object>"
            ],
            "text/html": [
              "\n",
              "     <input type=\"file\" id=\"files-8f591566-4aff-470a-8d54-17cfdb752d1d\" name=\"files[]\" multiple disabled\n",
              "        style=\"border:none\" />\n",
              "     <output id=\"result-8f591566-4aff-470a-8d54-17cfdb752d1d\">\n",
              "      Upload widget is only available when the cell has been executed in the\n",
              "      current browser session. Please rerun this cell to enable.\n",
              "      </output>\n",
              "      <script src=\"/nbextensions/google.colab/files.js\"></script> "
            ]
          },
          "metadata": {}
        },
        {
          "output_type": "stream",
          "name": "stdout",
          "text": [
            "Saving wdbc.data to wdbc.data\n"
          ]
        }
      ]
    },
    {
      "cell_type": "code",
      "source": [
        "data=pd.read_csv(\"wdbc.data\")\n"
      ],
      "metadata": {
        "id": "D_I0n9foqPfj"
      },
      "execution_count": null,
      "outputs": []
    },
    {
      "cell_type": "code",
      "source": [
        "data.head(5)"
      ],
      "metadata": {
        "colab": {
          "base_uri": "https://localhost:8080/",
          "height": 236
        },
        "id": "YYRsP_gYqrk5",
        "outputId": "983530b4-487a-4997-f8b2-8faf4b0eea9d"
      },
      "execution_count": null,
      "outputs": [
        {
          "output_type": "execute_result",
          "data": {
            "text/plain": [
              "     842302  M  17.99  10.38   122.8    1001   0.1184   0.2776  0.3001  \\\n",
              "0    842517  M  20.57  17.77  132.90  1326.0  0.08474  0.07864  0.0869   \n",
              "1  84300903  M  19.69  21.25  130.00  1203.0  0.10960  0.15990  0.1974   \n",
              "2  84348301  M  11.42  20.38   77.58   386.1  0.14250  0.28390  0.2414   \n",
              "3  84358402  M  20.29  14.34  135.10  1297.0  0.10030  0.13280  0.1980   \n",
              "4    843786  M  12.45  15.70   82.57   477.1  0.12780  0.17000  0.1578   \n",
              "\n",
              "    0.1471  ...  25.38  17.33   184.6    2019  0.1622  0.6656  0.7119  0.2654  \\\n",
              "0  0.07017  ...  24.99  23.41  158.80  1956.0  0.1238  0.1866  0.2416  0.1860   \n",
              "1  0.12790  ...  23.57  25.53  152.50  1709.0  0.1444  0.4245  0.4504  0.2430   \n",
              "2  0.10520  ...  14.91  26.50   98.87   567.7  0.2098  0.8663  0.6869  0.2575   \n",
              "3  0.10430  ...  22.54  16.67  152.20  1575.0  0.1374  0.2050  0.4000  0.1625   \n",
              "4  0.08089  ...  15.47  23.75  103.40   741.6  0.1791  0.5249  0.5355  0.1741   \n",
              "\n",
              "   0.4601   0.1189  \n",
              "0  0.2750  0.08902  \n",
              "1  0.3613  0.08758  \n",
              "2  0.6638  0.17300  \n",
              "3  0.2364  0.07678  \n",
              "4  0.3985  0.12440  \n",
              "\n",
              "[5 rows x 32 columns]"
            ],
            "text/html": [
              "\n",
              "  <div id=\"df-80940360-9391-46a9-a2f4-694ba8d844b6\">\n",
              "    <div class=\"colab-df-container\">\n",
              "      <div>\n",
              "<style scoped>\n",
              "    .dataframe tbody tr th:only-of-type {\n",
              "        vertical-align: middle;\n",
              "    }\n",
              "\n",
              "    .dataframe tbody tr th {\n",
              "        vertical-align: top;\n",
              "    }\n",
              "\n",
              "    .dataframe thead th {\n",
              "        text-align: right;\n",
              "    }\n",
              "</style>\n",
              "<table border=\"1\" class=\"dataframe\">\n",
              "  <thead>\n",
              "    <tr style=\"text-align: right;\">\n",
              "      <th></th>\n",
              "      <th>842302</th>\n",
              "      <th>M</th>\n",
              "      <th>17.99</th>\n",
              "      <th>10.38</th>\n",
              "      <th>122.8</th>\n",
              "      <th>1001</th>\n",
              "      <th>0.1184</th>\n",
              "      <th>0.2776</th>\n",
              "      <th>0.3001</th>\n",
              "      <th>0.1471</th>\n",
              "      <th>...</th>\n",
              "      <th>25.38</th>\n",
              "      <th>17.33</th>\n",
              "      <th>184.6</th>\n",
              "      <th>2019</th>\n",
              "      <th>0.1622</th>\n",
              "      <th>0.6656</th>\n",
              "      <th>0.7119</th>\n",
              "      <th>0.2654</th>\n",
              "      <th>0.4601</th>\n",
              "      <th>0.1189</th>\n",
              "    </tr>\n",
              "  </thead>\n",
              "  <tbody>\n",
              "    <tr>\n",
              "      <th>0</th>\n",
              "      <td>842517</td>\n",
              "      <td>M</td>\n",
              "      <td>20.57</td>\n",
              "      <td>17.77</td>\n",
              "      <td>132.90</td>\n",
              "      <td>1326.0</td>\n",
              "      <td>0.08474</td>\n",
              "      <td>0.07864</td>\n",
              "      <td>0.0869</td>\n",
              "      <td>0.07017</td>\n",
              "      <td>...</td>\n",
              "      <td>24.99</td>\n",
              "      <td>23.41</td>\n",
              "      <td>158.80</td>\n",
              "      <td>1956.0</td>\n",
              "      <td>0.1238</td>\n",
              "      <td>0.1866</td>\n",
              "      <td>0.2416</td>\n",
              "      <td>0.1860</td>\n",
              "      <td>0.2750</td>\n",
              "      <td>0.08902</td>\n",
              "    </tr>\n",
              "    <tr>\n",
              "      <th>1</th>\n",
              "      <td>84300903</td>\n",
              "      <td>M</td>\n",
              "      <td>19.69</td>\n",
              "      <td>21.25</td>\n",
              "      <td>130.00</td>\n",
              "      <td>1203.0</td>\n",
              "      <td>0.10960</td>\n",
              "      <td>0.15990</td>\n",
              "      <td>0.1974</td>\n",
              "      <td>0.12790</td>\n",
              "      <td>...</td>\n",
              "      <td>23.57</td>\n",
              "      <td>25.53</td>\n",
              "      <td>152.50</td>\n",
              "      <td>1709.0</td>\n",
              "      <td>0.1444</td>\n",
              "      <td>0.4245</td>\n",
              "      <td>0.4504</td>\n",
              "      <td>0.2430</td>\n",
              "      <td>0.3613</td>\n",
              "      <td>0.08758</td>\n",
              "    </tr>\n",
              "    <tr>\n",
              "      <th>2</th>\n",
              "      <td>84348301</td>\n",
              "      <td>M</td>\n",
              "      <td>11.42</td>\n",
              "      <td>20.38</td>\n",
              "      <td>77.58</td>\n",
              "      <td>386.1</td>\n",
              "      <td>0.14250</td>\n",
              "      <td>0.28390</td>\n",
              "      <td>0.2414</td>\n",
              "      <td>0.10520</td>\n",
              "      <td>...</td>\n",
              "      <td>14.91</td>\n",
              "      <td>26.50</td>\n",
              "      <td>98.87</td>\n",
              "      <td>567.7</td>\n",
              "      <td>0.2098</td>\n",
              "      <td>0.8663</td>\n",
              "      <td>0.6869</td>\n",
              "      <td>0.2575</td>\n",
              "      <td>0.6638</td>\n",
              "      <td>0.17300</td>\n",
              "    </tr>\n",
              "    <tr>\n",
              "      <th>3</th>\n",
              "      <td>84358402</td>\n",
              "      <td>M</td>\n",
              "      <td>20.29</td>\n",
              "      <td>14.34</td>\n",
              "      <td>135.10</td>\n",
              "      <td>1297.0</td>\n",
              "      <td>0.10030</td>\n",
              "      <td>0.13280</td>\n",
              "      <td>0.1980</td>\n",
              "      <td>0.10430</td>\n",
              "      <td>...</td>\n",
              "      <td>22.54</td>\n",
              "      <td>16.67</td>\n",
              "      <td>152.20</td>\n",
              "      <td>1575.0</td>\n",
              "      <td>0.1374</td>\n",
              "      <td>0.2050</td>\n",
              "      <td>0.4000</td>\n",
              "      <td>0.1625</td>\n",
              "      <td>0.2364</td>\n",
              "      <td>0.07678</td>\n",
              "    </tr>\n",
              "    <tr>\n",
              "      <th>4</th>\n",
              "      <td>843786</td>\n",
              "      <td>M</td>\n",
              "      <td>12.45</td>\n",
              "      <td>15.70</td>\n",
              "      <td>82.57</td>\n",
              "      <td>477.1</td>\n",
              "      <td>0.12780</td>\n",
              "      <td>0.17000</td>\n",
              "      <td>0.1578</td>\n",
              "      <td>0.08089</td>\n",
              "      <td>...</td>\n",
              "      <td>15.47</td>\n",
              "      <td>23.75</td>\n",
              "      <td>103.40</td>\n",
              "      <td>741.6</td>\n",
              "      <td>0.1791</td>\n",
              "      <td>0.5249</td>\n",
              "      <td>0.5355</td>\n",
              "      <td>0.1741</td>\n",
              "      <td>0.3985</td>\n",
              "      <td>0.12440</td>\n",
              "    </tr>\n",
              "  </tbody>\n",
              "</table>\n",
              "<p>5 rows × 32 columns</p>\n",
              "</div>\n",
              "      <button class=\"colab-df-convert\" onclick=\"convertToInteractive('df-80940360-9391-46a9-a2f4-694ba8d844b6')\"\n",
              "              title=\"Convert this dataframe to an interactive table.\"\n",
              "              style=\"display:none;\">\n",
              "        \n",
              "  <svg xmlns=\"http://www.w3.org/2000/svg\" height=\"24px\"viewBox=\"0 0 24 24\"\n",
              "       width=\"24px\">\n",
              "    <path d=\"M0 0h24v24H0V0z\" fill=\"none\"/>\n",
              "    <path d=\"M18.56 5.44l.94 2.06.94-2.06 2.06-.94-2.06-.94-.94-2.06-.94 2.06-2.06.94zm-11 1L8.5 8.5l.94-2.06 2.06-.94-2.06-.94L8.5 2.5l-.94 2.06-2.06.94zm10 10l.94 2.06.94-2.06 2.06-.94-2.06-.94-.94-2.06-.94 2.06-2.06.94z\"/><path d=\"M17.41 7.96l-1.37-1.37c-.4-.4-.92-.59-1.43-.59-.52 0-1.04.2-1.43.59L10.3 9.45l-7.72 7.72c-.78.78-.78 2.05 0 2.83L4 21.41c.39.39.9.59 1.41.59.51 0 1.02-.2 1.41-.59l7.78-7.78 2.81-2.81c.8-.78.8-2.07 0-2.86zM5.41 20L4 18.59l7.72-7.72 1.47 1.35L5.41 20z\"/>\n",
              "  </svg>\n",
              "      </button>\n",
              "      \n",
              "  <style>\n",
              "    .colab-df-container {\n",
              "      display:flex;\n",
              "      flex-wrap:wrap;\n",
              "      gap: 12px;\n",
              "    }\n",
              "\n",
              "    .colab-df-convert {\n",
              "      background-color: #E8F0FE;\n",
              "      border: none;\n",
              "      border-radius: 50%;\n",
              "      cursor: pointer;\n",
              "      display: none;\n",
              "      fill: #1967D2;\n",
              "      height: 32px;\n",
              "      padding: 0 0 0 0;\n",
              "      width: 32px;\n",
              "    }\n",
              "\n",
              "    .colab-df-convert:hover {\n",
              "      background-color: #E2EBFA;\n",
              "      box-shadow: 0px 1px 2px rgba(60, 64, 67, 0.3), 0px 1px 3px 1px rgba(60, 64, 67, 0.15);\n",
              "      fill: #174EA6;\n",
              "    }\n",
              "\n",
              "    [theme=dark] .colab-df-convert {\n",
              "      background-color: #3B4455;\n",
              "      fill: #D2E3FC;\n",
              "    }\n",
              "\n",
              "    [theme=dark] .colab-df-convert:hover {\n",
              "      background-color: #434B5C;\n",
              "      box-shadow: 0px 1px 3px 1px rgba(0, 0, 0, 0.15);\n",
              "      filter: drop-shadow(0px 1px 2px rgba(0, 0, 0, 0.3));\n",
              "      fill: #FFFFFF;\n",
              "    }\n",
              "  </style>\n",
              "\n",
              "      <script>\n",
              "        const buttonEl =\n",
              "          document.querySelector('#df-80940360-9391-46a9-a2f4-694ba8d844b6 button.colab-df-convert');\n",
              "        buttonEl.style.display =\n",
              "          google.colab.kernel.accessAllowed ? 'block' : 'none';\n",
              "\n",
              "        async function convertToInteractive(key) {\n",
              "          const element = document.querySelector('#df-80940360-9391-46a9-a2f4-694ba8d844b6');\n",
              "          const dataTable =\n",
              "            await google.colab.kernel.invokeFunction('convertToInteractive',\n",
              "                                                     [key], {});\n",
              "          if (!dataTable) return;\n",
              "\n",
              "          const docLinkHtml = 'Like what you see? Visit the ' +\n",
              "            '<a target=\"_blank\" href=https://colab.research.google.com/notebooks/data_table.ipynb>data table notebook</a>'\n",
              "            + ' to learn more about interactive tables.';\n",
              "          element.innerHTML = '';\n",
              "          dataTable['output_type'] = 'display_data';\n",
              "          await google.colab.output.renderOutput(dataTable, element);\n",
              "          const docLink = document.createElement('div');\n",
              "          docLink.innerHTML = docLinkHtml;\n",
              "          element.appendChild(docLink);\n",
              "        }\n",
              "      </script>\n",
              "    </div>\n",
              "  </div>\n",
              "  "
            ]
          },
          "metadata": {},
          "execution_count": 5
        }
      ]
    },
    {
      "cell_type": "code",
      "source": [
        "names=[\"a\",\"b\",\"c\",\"d\",\"e\",\"f\",\"g\",\"h\",\"i\",\"j\",\"k\",\"l\",\"m\",\"n\",\"o\",\"p\",\"q\",\"r\",\"s\",\"t\",\"u\",\"v\",\"w\",\"x\",\"y\",\"z\",\"ab\",\"cd\",\"ef\",\"gh\",\"ij\",\"kl\"]"
      ],
      "metadata": {
        "id": "jGeoxA3zqyLR"
      },
      "execution_count": null,
      "outputs": []
    },
    {
      "cell_type": "markdown",
      "source": [
        "**En esta parte debido a que la base de datos utilizada no cuenta con nombres en sus columnas, a partir de este codigo se puede agregar el nombre deseado a cada una de estas.**"
      ],
      "metadata": {
        "id": "uAR3A-Z-jUKB"
      }
    },
    {
      "cell_type": "code",
      "source": [
        "data=pd.read_csv(\"wdbc.data\",header=None,names=names)"
      ],
      "metadata": {
        "id": "_uz1Wc5GwaIB"
      },
      "execution_count": null,
      "outputs": []
    },
    {
      "cell_type": "code",
      "source": [
        "data.head(5)"
      ],
      "metadata": {
        "colab": {
          "base_uri": "https://localhost:8080/",
          "height": 236
        },
        "id": "czQ5P12CxGaq",
        "outputId": "0a6fb336-f598-4055-c1ac-e5669161a738"
      },
      "execution_count": null,
      "outputs": [
        {
          "output_type": "execute_result",
          "data": {
            "text/plain": [
              "          a  b      c      d       e       f        g        h       i  \\\n",
              "0    842302  M  17.99  10.38  122.80  1001.0  0.11840  0.27760  0.3001   \n",
              "1    842517  M  20.57  17.77  132.90  1326.0  0.08474  0.07864  0.0869   \n",
              "2  84300903  M  19.69  21.25  130.00  1203.0  0.10960  0.15990  0.1974   \n",
              "3  84348301  M  11.42  20.38   77.58   386.1  0.14250  0.28390  0.2414   \n",
              "4  84358402  M  20.29  14.34  135.10  1297.0  0.10030  0.13280  0.1980   \n",
              "\n",
              "         j  ...      w      x       y       z      ab      cd      ef      gh  \\\n",
              "0  0.14710  ...  25.38  17.33  184.60  2019.0  0.1622  0.6656  0.7119  0.2654   \n",
              "1  0.07017  ...  24.99  23.41  158.80  1956.0  0.1238  0.1866  0.2416  0.1860   \n",
              "2  0.12790  ...  23.57  25.53  152.50  1709.0  0.1444  0.4245  0.4504  0.2430   \n",
              "3  0.10520  ...  14.91  26.50   98.87   567.7  0.2098  0.8663  0.6869  0.2575   \n",
              "4  0.10430  ...  22.54  16.67  152.20  1575.0  0.1374  0.2050  0.4000  0.1625   \n",
              "\n",
              "       ij       kl  \n",
              "0  0.4601  0.11890  \n",
              "1  0.2750  0.08902  \n",
              "2  0.3613  0.08758  \n",
              "3  0.6638  0.17300  \n",
              "4  0.2364  0.07678  \n",
              "\n",
              "[5 rows x 32 columns]"
            ],
            "text/html": [
              "\n",
              "  <div id=\"df-a5e28d4c-6b68-4250-9a2c-c5f92a0e6f1b\">\n",
              "    <div class=\"colab-df-container\">\n",
              "      <div>\n",
              "<style scoped>\n",
              "    .dataframe tbody tr th:only-of-type {\n",
              "        vertical-align: middle;\n",
              "    }\n",
              "\n",
              "    .dataframe tbody tr th {\n",
              "        vertical-align: top;\n",
              "    }\n",
              "\n",
              "    .dataframe thead th {\n",
              "        text-align: right;\n",
              "    }\n",
              "</style>\n",
              "<table border=\"1\" class=\"dataframe\">\n",
              "  <thead>\n",
              "    <tr style=\"text-align: right;\">\n",
              "      <th></th>\n",
              "      <th>a</th>\n",
              "      <th>b</th>\n",
              "      <th>c</th>\n",
              "      <th>d</th>\n",
              "      <th>e</th>\n",
              "      <th>f</th>\n",
              "      <th>g</th>\n",
              "      <th>h</th>\n",
              "      <th>i</th>\n",
              "      <th>j</th>\n",
              "      <th>...</th>\n",
              "      <th>w</th>\n",
              "      <th>x</th>\n",
              "      <th>y</th>\n",
              "      <th>z</th>\n",
              "      <th>ab</th>\n",
              "      <th>cd</th>\n",
              "      <th>ef</th>\n",
              "      <th>gh</th>\n",
              "      <th>ij</th>\n",
              "      <th>kl</th>\n",
              "    </tr>\n",
              "  </thead>\n",
              "  <tbody>\n",
              "    <tr>\n",
              "      <th>0</th>\n",
              "      <td>842302</td>\n",
              "      <td>M</td>\n",
              "      <td>17.99</td>\n",
              "      <td>10.38</td>\n",
              "      <td>122.80</td>\n",
              "      <td>1001.0</td>\n",
              "      <td>0.11840</td>\n",
              "      <td>0.27760</td>\n",
              "      <td>0.3001</td>\n",
              "      <td>0.14710</td>\n",
              "      <td>...</td>\n",
              "      <td>25.38</td>\n",
              "      <td>17.33</td>\n",
              "      <td>184.60</td>\n",
              "      <td>2019.0</td>\n",
              "      <td>0.1622</td>\n",
              "      <td>0.6656</td>\n",
              "      <td>0.7119</td>\n",
              "      <td>0.2654</td>\n",
              "      <td>0.4601</td>\n",
              "      <td>0.11890</td>\n",
              "    </tr>\n",
              "    <tr>\n",
              "      <th>1</th>\n",
              "      <td>842517</td>\n",
              "      <td>M</td>\n",
              "      <td>20.57</td>\n",
              "      <td>17.77</td>\n",
              "      <td>132.90</td>\n",
              "      <td>1326.0</td>\n",
              "      <td>0.08474</td>\n",
              "      <td>0.07864</td>\n",
              "      <td>0.0869</td>\n",
              "      <td>0.07017</td>\n",
              "      <td>...</td>\n",
              "      <td>24.99</td>\n",
              "      <td>23.41</td>\n",
              "      <td>158.80</td>\n",
              "      <td>1956.0</td>\n",
              "      <td>0.1238</td>\n",
              "      <td>0.1866</td>\n",
              "      <td>0.2416</td>\n",
              "      <td>0.1860</td>\n",
              "      <td>0.2750</td>\n",
              "      <td>0.08902</td>\n",
              "    </tr>\n",
              "    <tr>\n",
              "      <th>2</th>\n",
              "      <td>84300903</td>\n",
              "      <td>M</td>\n",
              "      <td>19.69</td>\n",
              "      <td>21.25</td>\n",
              "      <td>130.00</td>\n",
              "      <td>1203.0</td>\n",
              "      <td>0.10960</td>\n",
              "      <td>0.15990</td>\n",
              "      <td>0.1974</td>\n",
              "      <td>0.12790</td>\n",
              "      <td>...</td>\n",
              "      <td>23.57</td>\n",
              "      <td>25.53</td>\n",
              "      <td>152.50</td>\n",
              "      <td>1709.0</td>\n",
              "      <td>0.1444</td>\n",
              "      <td>0.4245</td>\n",
              "      <td>0.4504</td>\n",
              "      <td>0.2430</td>\n",
              "      <td>0.3613</td>\n",
              "      <td>0.08758</td>\n",
              "    </tr>\n",
              "    <tr>\n",
              "      <th>3</th>\n",
              "      <td>84348301</td>\n",
              "      <td>M</td>\n",
              "      <td>11.42</td>\n",
              "      <td>20.38</td>\n",
              "      <td>77.58</td>\n",
              "      <td>386.1</td>\n",
              "      <td>0.14250</td>\n",
              "      <td>0.28390</td>\n",
              "      <td>0.2414</td>\n",
              "      <td>0.10520</td>\n",
              "      <td>...</td>\n",
              "      <td>14.91</td>\n",
              "      <td>26.50</td>\n",
              "      <td>98.87</td>\n",
              "      <td>567.7</td>\n",
              "      <td>0.2098</td>\n",
              "      <td>0.8663</td>\n",
              "      <td>0.6869</td>\n",
              "      <td>0.2575</td>\n",
              "      <td>0.6638</td>\n",
              "      <td>0.17300</td>\n",
              "    </tr>\n",
              "    <tr>\n",
              "      <th>4</th>\n",
              "      <td>84358402</td>\n",
              "      <td>M</td>\n",
              "      <td>20.29</td>\n",
              "      <td>14.34</td>\n",
              "      <td>135.10</td>\n",
              "      <td>1297.0</td>\n",
              "      <td>0.10030</td>\n",
              "      <td>0.13280</td>\n",
              "      <td>0.1980</td>\n",
              "      <td>0.10430</td>\n",
              "      <td>...</td>\n",
              "      <td>22.54</td>\n",
              "      <td>16.67</td>\n",
              "      <td>152.20</td>\n",
              "      <td>1575.0</td>\n",
              "      <td>0.1374</td>\n",
              "      <td>0.2050</td>\n",
              "      <td>0.4000</td>\n",
              "      <td>0.1625</td>\n",
              "      <td>0.2364</td>\n",
              "      <td>0.07678</td>\n",
              "    </tr>\n",
              "  </tbody>\n",
              "</table>\n",
              "<p>5 rows × 32 columns</p>\n",
              "</div>\n",
              "      <button class=\"colab-df-convert\" onclick=\"convertToInteractive('df-a5e28d4c-6b68-4250-9a2c-c5f92a0e6f1b')\"\n",
              "              title=\"Convert this dataframe to an interactive table.\"\n",
              "              style=\"display:none;\">\n",
              "        \n",
              "  <svg xmlns=\"http://www.w3.org/2000/svg\" height=\"24px\"viewBox=\"0 0 24 24\"\n",
              "       width=\"24px\">\n",
              "    <path d=\"M0 0h24v24H0V0z\" fill=\"none\"/>\n",
              "    <path d=\"M18.56 5.44l.94 2.06.94-2.06 2.06-.94-2.06-.94-.94-2.06-.94 2.06-2.06.94zm-11 1L8.5 8.5l.94-2.06 2.06-.94-2.06-.94L8.5 2.5l-.94 2.06-2.06.94zm10 10l.94 2.06.94-2.06 2.06-.94-2.06-.94-.94-2.06-.94 2.06-2.06.94z\"/><path d=\"M17.41 7.96l-1.37-1.37c-.4-.4-.92-.59-1.43-.59-.52 0-1.04.2-1.43.59L10.3 9.45l-7.72 7.72c-.78.78-.78 2.05 0 2.83L4 21.41c.39.39.9.59 1.41.59.51 0 1.02-.2 1.41-.59l7.78-7.78 2.81-2.81c.8-.78.8-2.07 0-2.86zM5.41 20L4 18.59l7.72-7.72 1.47 1.35L5.41 20z\"/>\n",
              "  </svg>\n",
              "      </button>\n",
              "      \n",
              "  <style>\n",
              "    .colab-df-container {\n",
              "      display:flex;\n",
              "      flex-wrap:wrap;\n",
              "      gap: 12px;\n",
              "    }\n",
              "\n",
              "    .colab-df-convert {\n",
              "      background-color: #E8F0FE;\n",
              "      border: none;\n",
              "      border-radius: 50%;\n",
              "      cursor: pointer;\n",
              "      display: none;\n",
              "      fill: #1967D2;\n",
              "      height: 32px;\n",
              "      padding: 0 0 0 0;\n",
              "      width: 32px;\n",
              "    }\n",
              "\n",
              "    .colab-df-convert:hover {\n",
              "      background-color: #E2EBFA;\n",
              "      box-shadow: 0px 1px 2px rgba(60, 64, 67, 0.3), 0px 1px 3px 1px rgba(60, 64, 67, 0.15);\n",
              "      fill: #174EA6;\n",
              "    }\n",
              "\n",
              "    [theme=dark] .colab-df-convert {\n",
              "      background-color: #3B4455;\n",
              "      fill: #D2E3FC;\n",
              "    }\n",
              "\n",
              "    [theme=dark] .colab-df-convert:hover {\n",
              "      background-color: #434B5C;\n",
              "      box-shadow: 0px 1px 3px 1px rgba(0, 0, 0, 0.15);\n",
              "      filter: drop-shadow(0px 1px 2px rgba(0, 0, 0, 0.3));\n",
              "      fill: #FFFFFF;\n",
              "    }\n",
              "  </style>\n",
              "\n",
              "      <script>\n",
              "        const buttonEl =\n",
              "          document.querySelector('#df-a5e28d4c-6b68-4250-9a2c-c5f92a0e6f1b button.colab-df-convert');\n",
              "        buttonEl.style.display =\n",
              "          google.colab.kernel.accessAllowed ? 'block' : 'none';\n",
              "\n",
              "        async function convertToInteractive(key) {\n",
              "          const element = document.querySelector('#df-a5e28d4c-6b68-4250-9a2c-c5f92a0e6f1b');\n",
              "          const dataTable =\n",
              "            await google.colab.kernel.invokeFunction('convertToInteractive',\n",
              "                                                     [key], {});\n",
              "          if (!dataTable) return;\n",
              "\n",
              "          const docLinkHtml = 'Like what you see? Visit the ' +\n",
              "            '<a target=\"_blank\" href=https://colab.research.google.com/notebooks/data_table.ipynb>data table notebook</a>'\n",
              "            + ' to learn more about interactive tables.';\n",
              "          element.innerHTML = '';\n",
              "          dataTable['output_type'] = 'display_data';\n",
              "          await google.colab.output.renderOutput(dataTable, element);\n",
              "          const docLink = document.createElement('div');\n",
              "          docLink.innerHTML = docLinkHtml;\n",
              "          element.appendChild(docLink);\n",
              "        }\n",
              "      </script>\n",
              "    </div>\n",
              "  </div>\n",
              "  "
            ]
          },
          "metadata": {},
          "execution_count": 8
        }
      ]
    },
    {
      "cell_type": "markdown",
      "source": [
        "***En esta parte la base de datos se encuentra codificada y tabulada de tal forma que no se encuentran datos faltantes. Cabe resaltar que la data en estudio es del Cáncer de mama Wisconsin (pronóstico), tomada de manera libre en https://archive-beta.ics.uci.edu/ml/datasets/breast+cancer+wisconsin+prognostic ***\n",
        "\n"
      ],
      "metadata": {
        "id": "GjqGl5oQh7It"
      }
    },
    {
      "cell_type": "code",
      "source": [
        "print (\"tengo N =\", len(data),\"instancias\")"
      ],
      "metadata": {
        "colab": {
          "base_uri": "https://localhost:8080/"
        },
        "id": "pPcppPKMvFk9",
        "outputId": "b0322413-bd89-40ac-bb5e-855fa83be47f"
      },
      "execution_count": null,
      "outputs": [
        {
          "output_type": "stream",
          "name": "stdout",
          "text": [
            "tengo N = 569 instancias\n"
          ]
        }
      ]
    },
    {
      "cell_type": "markdown",
      "source": [
        "**En este apartado le permite al interesado conocer el número de filas con los que cuenta su base de datos.**"
      ],
      "metadata": {
        "id": "Bdnmt0tfimfK"
      }
    },
    {
      "cell_type": "code",
      "source": [
        "print(\"Tengo N =\", len(data.columns), \"atributos\")"
      ],
      "metadata": {
        "colab": {
          "base_uri": "https://localhost:8080/"
        },
        "id": "1N3XBaTevUUZ",
        "outputId": "b17325e3-402c-4ab8-c2c9-efec1de8e73f"
      },
      "execution_count": null,
      "outputs": [
        {
          "output_type": "stream",
          "name": "stdout",
          "text": [
            "Tengo N = 32 atributos\n"
          ]
        }
      ]
    },
    {
      "cell_type": "markdown",
      "source": [
        "**En esta parte se evidencian a través del codigo el número de columnas con las cuales cuenta la base de datos.**"
      ],
      "metadata": {
        "id": "8hhCHDqHildk"
      }
    },
    {
      "cell_type": "code",
      "source": [
        "datos= data[data.isna().any(axis=1)]#Numero de datos faltantes"
      ],
      "metadata": {
        "id": "iLH7qE-xyDk6"
      },
      "execution_count": null,
      "outputs": []
    },
    {
      "cell_type": "markdown",
      "source": [
        "**El codigo anterior nos muestra el numero de datos faltantes (NaN) que tiene la base de datos en cuestión, pero se evidencia que la base utilizada no presenta ninguno.**"
      ],
      "metadata": {
        "id": "qaTsTpnCji9r"
      }
    },
    {
      "cell_type": "code",
      "source": [
        "print(\"Tengo N =\",len(datos),\"datos\")"
      ],
      "metadata": {
        "colab": {
          "base_uri": "https://localhost:8080/"
        },
        "id": "GyUWjB8tyPMi",
        "outputId": "c4ddd722-857c-42af-8845-c3fae53f3740"
      },
      "execution_count": null,
      "outputs": [
        {
          "output_type": "stream",
          "name": "stdout",
          "text": [
            "Tengo N = 0 datos\n"
          ]
        }
      ]
    },
    {
      "cell_type": "code",
      "source": [
        "length = len(data)\n",
        "for i in data.columns[:32]:\n",
        "    num = int(np.random.randint(0,90)/100*length)\n",
        "    idx_replace = np.random.randint(0, length-1, num)\n",
        "    data.loc[idx_replace, i] = np.nan #para agregar datos perdidos"
      ],
      "metadata": {
        "id": "UPwZ0CP6z8zp"
      },
      "execution_count": null,
      "outputs": []
    },
    {
      "cell_type": "markdown",
      "source": [
        "**De esta forma lo que hago es agregar datos faltantes a mi base de datos (NaN), esto con el fin de saber como arreglar bases de datos que por si solas ya los traigan.**"
      ],
      "metadata": {
        "id": "TpydGLZWkUf5"
      }
    },
    {
      "cell_type": "code",
      "source": [
        "datos1=data[data.isna().any(axis=1)] # Datos faltantes"
      ],
      "metadata": {
        "id": "P7-tSVrx4EtO"
      },
      "execution_count": null,
      "outputs": []
    },
    {
      "cell_type": "code",
      "source": [
        "datos1.head(5)"
      ],
      "metadata": {
        "colab": {
          "base_uri": "https://localhost:8080/",
          "height": 236
        },
        "id": "TrRUljhW6nPU",
        "outputId": "296dc7ce-1549-4a98-eee8-a5f53e12a2e4"
      },
      "execution_count": null,
      "outputs": [
        {
          "output_type": "execute_result",
          "data": {
            "text/plain": [
              "            a    b      c      d       e       f        g        h       i  \\\n",
              "0    842302.0    M  17.99  10.38  122.80  1001.0  0.11840  0.27760     NaN   \n",
              "1         NaN  NaN    NaN  17.77     NaN     NaN  0.08474  0.07864  0.0869   \n",
              "2  84300903.0    M  19.69  21.25     NaN     NaN      NaN  0.15990  0.1974   \n",
              "3  84348301.0  NaN  11.42  20.38   77.58   386.1      NaN      NaN     NaN   \n",
              "4  84358402.0  NaN  20.29    NaN  135.10     NaN      NaN  0.13280  0.1980   \n",
              "\n",
              "         j  ...      w      x       y       z      ab      cd      ef      gh  \\\n",
              "0  0.14710  ...  25.38  17.33  184.60  2019.0  0.1622  0.6656     NaN     NaN   \n",
              "1  0.07017  ...  24.99    NaN  158.80  1956.0  0.1238  0.1866  0.2416     NaN   \n",
              "2  0.12790  ...  23.57  25.53  152.50  1709.0     NaN  0.4245  0.4504  0.2430   \n",
              "3  0.10520  ...  14.91  26.50   98.87   567.7  0.2098  0.8663  0.6869  0.2575   \n",
              "4      NaN  ...  22.54  16.67  152.20  1575.0     NaN  0.2050  0.4000  0.1625   \n",
              "\n",
              "       ij       kl  \n",
              "0     NaN  0.11890  \n",
              "1  0.2750  0.08902  \n",
              "2  0.3613  0.08758  \n",
              "3  0.6638  0.17300  \n",
              "4  0.2364  0.07678  \n",
              "\n",
              "[5 rows x 32 columns]"
            ],
            "text/html": [
              "\n",
              "  <div id=\"df-ee6c67be-d3a3-4e9f-aa08-d38f5738aa22\">\n",
              "    <div class=\"colab-df-container\">\n",
              "      <div>\n",
              "<style scoped>\n",
              "    .dataframe tbody tr th:only-of-type {\n",
              "        vertical-align: middle;\n",
              "    }\n",
              "\n",
              "    .dataframe tbody tr th {\n",
              "        vertical-align: top;\n",
              "    }\n",
              "\n",
              "    .dataframe thead th {\n",
              "        text-align: right;\n",
              "    }\n",
              "</style>\n",
              "<table border=\"1\" class=\"dataframe\">\n",
              "  <thead>\n",
              "    <tr style=\"text-align: right;\">\n",
              "      <th></th>\n",
              "      <th>a</th>\n",
              "      <th>b</th>\n",
              "      <th>c</th>\n",
              "      <th>d</th>\n",
              "      <th>e</th>\n",
              "      <th>f</th>\n",
              "      <th>g</th>\n",
              "      <th>h</th>\n",
              "      <th>i</th>\n",
              "      <th>j</th>\n",
              "      <th>...</th>\n",
              "      <th>w</th>\n",
              "      <th>x</th>\n",
              "      <th>y</th>\n",
              "      <th>z</th>\n",
              "      <th>ab</th>\n",
              "      <th>cd</th>\n",
              "      <th>ef</th>\n",
              "      <th>gh</th>\n",
              "      <th>ij</th>\n",
              "      <th>kl</th>\n",
              "    </tr>\n",
              "  </thead>\n",
              "  <tbody>\n",
              "    <tr>\n",
              "      <th>0</th>\n",
              "      <td>842302.0</td>\n",
              "      <td>M</td>\n",
              "      <td>17.99</td>\n",
              "      <td>10.38</td>\n",
              "      <td>122.80</td>\n",
              "      <td>1001.0</td>\n",
              "      <td>0.11840</td>\n",
              "      <td>0.27760</td>\n",
              "      <td>NaN</td>\n",
              "      <td>0.14710</td>\n",
              "      <td>...</td>\n",
              "      <td>25.38</td>\n",
              "      <td>17.33</td>\n",
              "      <td>184.60</td>\n",
              "      <td>2019.0</td>\n",
              "      <td>0.1622</td>\n",
              "      <td>0.6656</td>\n",
              "      <td>NaN</td>\n",
              "      <td>NaN</td>\n",
              "      <td>NaN</td>\n",
              "      <td>0.11890</td>\n",
              "    </tr>\n",
              "    <tr>\n",
              "      <th>1</th>\n",
              "      <td>NaN</td>\n",
              "      <td>NaN</td>\n",
              "      <td>NaN</td>\n",
              "      <td>17.77</td>\n",
              "      <td>NaN</td>\n",
              "      <td>NaN</td>\n",
              "      <td>0.08474</td>\n",
              "      <td>0.07864</td>\n",
              "      <td>0.0869</td>\n",
              "      <td>0.07017</td>\n",
              "      <td>...</td>\n",
              "      <td>24.99</td>\n",
              "      <td>NaN</td>\n",
              "      <td>158.80</td>\n",
              "      <td>1956.0</td>\n",
              "      <td>0.1238</td>\n",
              "      <td>0.1866</td>\n",
              "      <td>0.2416</td>\n",
              "      <td>NaN</td>\n",
              "      <td>0.2750</td>\n",
              "      <td>0.08902</td>\n",
              "    </tr>\n",
              "    <tr>\n",
              "      <th>2</th>\n",
              "      <td>84300903.0</td>\n",
              "      <td>M</td>\n",
              "      <td>19.69</td>\n",
              "      <td>21.25</td>\n",
              "      <td>NaN</td>\n",
              "      <td>NaN</td>\n",
              "      <td>NaN</td>\n",
              "      <td>0.15990</td>\n",
              "      <td>0.1974</td>\n",
              "      <td>0.12790</td>\n",
              "      <td>...</td>\n",
              "      <td>23.57</td>\n",
              "      <td>25.53</td>\n",
              "      <td>152.50</td>\n",
              "      <td>1709.0</td>\n",
              "      <td>NaN</td>\n",
              "      <td>0.4245</td>\n",
              "      <td>0.4504</td>\n",
              "      <td>0.2430</td>\n",
              "      <td>0.3613</td>\n",
              "      <td>0.08758</td>\n",
              "    </tr>\n",
              "    <tr>\n",
              "      <th>3</th>\n",
              "      <td>84348301.0</td>\n",
              "      <td>NaN</td>\n",
              "      <td>11.42</td>\n",
              "      <td>20.38</td>\n",
              "      <td>77.58</td>\n",
              "      <td>386.1</td>\n",
              "      <td>NaN</td>\n",
              "      <td>NaN</td>\n",
              "      <td>NaN</td>\n",
              "      <td>0.10520</td>\n",
              "      <td>...</td>\n",
              "      <td>14.91</td>\n",
              "      <td>26.50</td>\n",
              "      <td>98.87</td>\n",
              "      <td>567.7</td>\n",
              "      <td>0.2098</td>\n",
              "      <td>0.8663</td>\n",
              "      <td>0.6869</td>\n",
              "      <td>0.2575</td>\n",
              "      <td>0.6638</td>\n",
              "      <td>0.17300</td>\n",
              "    </tr>\n",
              "    <tr>\n",
              "      <th>4</th>\n",
              "      <td>84358402.0</td>\n",
              "      <td>NaN</td>\n",
              "      <td>20.29</td>\n",
              "      <td>NaN</td>\n",
              "      <td>135.10</td>\n",
              "      <td>NaN</td>\n",
              "      <td>NaN</td>\n",
              "      <td>0.13280</td>\n",
              "      <td>0.1980</td>\n",
              "      <td>NaN</td>\n",
              "      <td>...</td>\n",
              "      <td>22.54</td>\n",
              "      <td>16.67</td>\n",
              "      <td>152.20</td>\n",
              "      <td>1575.0</td>\n",
              "      <td>NaN</td>\n",
              "      <td>0.2050</td>\n",
              "      <td>0.4000</td>\n",
              "      <td>0.1625</td>\n",
              "      <td>0.2364</td>\n",
              "      <td>0.07678</td>\n",
              "    </tr>\n",
              "  </tbody>\n",
              "</table>\n",
              "<p>5 rows × 32 columns</p>\n",
              "</div>\n",
              "      <button class=\"colab-df-convert\" onclick=\"convertToInteractive('df-ee6c67be-d3a3-4e9f-aa08-d38f5738aa22')\"\n",
              "              title=\"Convert this dataframe to an interactive table.\"\n",
              "              style=\"display:none;\">\n",
              "        \n",
              "  <svg xmlns=\"http://www.w3.org/2000/svg\" height=\"24px\"viewBox=\"0 0 24 24\"\n",
              "       width=\"24px\">\n",
              "    <path d=\"M0 0h24v24H0V0z\" fill=\"none\"/>\n",
              "    <path d=\"M18.56 5.44l.94 2.06.94-2.06 2.06-.94-2.06-.94-.94-2.06-.94 2.06-2.06.94zm-11 1L8.5 8.5l.94-2.06 2.06-.94-2.06-.94L8.5 2.5l-.94 2.06-2.06.94zm10 10l.94 2.06.94-2.06 2.06-.94-2.06-.94-.94-2.06-.94 2.06-2.06.94z\"/><path d=\"M17.41 7.96l-1.37-1.37c-.4-.4-.92-.59-1.43-.59-.52 0-1.04.2-1.43.59L10.3 9.45l-7.72 7.72c-.78.78-.78 2.05 0 2.83L4 21.41c.39.39.9.59 1.41.59.51 0 1.02-.2 1.41-.59l7.78-7.78 2.81-2.81c.8-.78.8-2.07 0-2.86zM5.41 20L4 18.59l7.72-7.72 1.47 1.35L5.41 20z\"/>\n",
              "  </svg>\n",
              "      </button>\n",
              "      \n",
              "  <style>\n",
              "    .colab-df-container {\n",
              "      display:flex;\n",
              "      flex-wrap:wrap;\n",
              "      gap: 12px;\n",
              "    }\n",
              "\n",
              "    .colab-df-convert {\n",
              "      background-color: #E8F0FE;\n",
              "      border: none;\n",
              "      border-radius: 50%;\n",
              "      cursor: pointer;\n",
              "      display: none;\n",
              "      fill: #1967D2;\n",
              "      height: 32px;\n",
              "      padding: 0 0 0 0;\n",
              "      width: 32px;\n",
              "    }\n",
              "\n",
              "    .colab-df-convert:hover {\n",
              "      background-color: #E2EBFA;\n",
              "      box-shadow: 0px 1px 2px rgba(60, 64, 67, 0.3), 0px 1px 3px 1px rgba(60, 64, 67, 0.15);\n",
              "      fill: #174EA6;\n",
              "    }\n",
              "\n",
              "    [theme=dark] .colab-df-convert {\n",
              "      background-color: #3B4455;\n",
              "      fill: #D2E3FC;\n",
              "    }\n",
              "\n",
              "    [theme=dark] .colab-df-convert:hover {\n",
              "      background-color: #434B5C;\n",
              "      box-shadow: 0px 1px 3px 1px rgba(0, 0, 0, 0.15);\n",
              "      filter: drop-shadow(0px 1px 2px rgba(0, 0, 0, 0.3));\n",
              "      fill: #FFFFFF;\n",
              "    }\n",
              "  </style>\n",
              "\n",
              "      <script>\n",
              "        const buttonEl =\n",
              "          document.querySelector('#df-ee6c67be-d3a3-4e9f-aa08-d38f5738aa22 button.colab-df-convert');\n",
              "        buttonEl.style.display =\n",
              "          google.colab.kernel.accessAllowed ? 'block' : 'none';\n",
              "\n",
              "        async function convertToInteractive(key) {\n",
              "          const element = document.querySelector('#df-ee6c67be-d3a3-4e9f-aa08-d38f5738aa22');\n",
              "          const dataTable =\n",
              "            await google.colab.kernel.invokeFunction('convertToInteractive',\n",
              "                                                     [key], {});\n",
              "          if (!dataTable) return;\n",
              "\n",
              "          const docLinkHtml = 'Like what you see? Visit the ' +\n",
              "            '<a target=\"_blank\" href=https://colab.research.google.com/notebooks/data_table.ipynb>data table notebook</a>'\n",
              "            + ' to learn more about interactive tables.';\n",
              "          element.innerHTML = '';\n",
              "          dataTable['output_type'] = 'display_data';\n",
              "          await google.colab.output.renderOutput(dataTable, element);\n",
              "          const docLink = document.createElement('div');\n",
              "          docLink.innerHTML = docLinkHtml;\n",
              "          element.appendChild(docLink);\n",
              "        }\n",
              "      </script>\n",
              "    </div>\n",
              "  </div>\n",
              "  "
            ]
          },
          "metadata": {},
          "execution_count": 15
        }
      ]
    },
    {
      "cell_type": "code",
      "source": [
        "data.isnull().sum() #Número de datos perdidos por columnas."
      ],
      "metadata": {
        "colab": {
          "base_uri": "https://localhost:8080/"
        },
        "id": "aY8G9xtC6M0x",
        "outputId": "afbabffb-e9a3-446c-be43-6f77896cec04"
      },
      "execution_count": null,
      "outputs": [
        {
          "output_type": "execute_result",
          "data": {
            "text/plain": [
              "a     127\n",
              "b     306\n",
              "c     255\n",
              "d     166\n",
              "e     241\n",
              "f     341\n",
              "g     330\n",
              "h     142\n",
              "i     177\n",
              "j     198\n",
              "k     246\n",
              "l     287\n",
              "m     127\n",
              "n     245\n",
              "o      63\n",
              "p     265\n",
              "q     312\n",
              "r     252\n",
              "s     301\n",
              "t     215\n",
              "u     103\n",
              "v     162\n",
              "w       5\n",
              "x     162\n",
              "y      80\n",
              "z       0\n",
              "ab    334\n",
              "cd    183\n",
              "ef    180\n",
              "gh    304\n",
              "ij    274\n",
              "kl    113\n",
              "dtype: int64"
            ]
          },
          "metadata": {},
          "execution_count": 16
        }
      ]
    },
    {
      "cell_type": "markdown",
      "source": [
        "**Indica el numero de datos faltantes por columnas.**"
      ],
      "metadata": {
        "id": "N1RFq4rHljIn"
      }
    },
    {
      "cell_type": "code",
      "source": [
        "data.isnull().sum()/len(datos1)*100 #Porcentaje de datos faltantes."
      ],
      "metadata": {
        "colab": {
          "base_uri": "https://localhost:8080/"
        },
        "id": "oLhGCAWy8dYy",
        "outputId": "6bf11f14-d69c-40ac-ad9c-2b1242d5d7be"
      },
      "execution_count": null,
      "outputs": [
        {
          "output_type": "execute_result",
          "data": {
            "text/plain": [
              "a     22.359155\n",
              "b     53.873239\n",
              "c     44.894366\n",
              "d     29.225352\n",
              "e     42.429577\n",
              "f     60.035211\n",
              "g     58.098592\n",
              "h     25.000000\n",
              "i     31.161972\n",
              "j     34.859155\n",
              "k     43.309859\n",
              "l     50.528169\n",
              "m     22.359155\n",
              "n     43.133803\n",
              "o     11.091549\n",
              "p     46.654930\n",
              "q     54.929577\n",
              "r     44.366197\n",
              "s     52.992958\n",
              "t     37.852113\n",
              "u     18.133803\n",
              "v     28.521127\n",
              "w      0.880282\n",
              "x     28.521127\n",
              "y     14.084507\n",
              "z      0.000000\n",
              "ab    58.802817\n",
              "cd    32.218310\n",
              "ef    31.690141\n",
              "gh    53.521127\n",
              "ij    48.239437\n",
              "kl    19.894366\n",
              "dtype: float64"
            ]
          },
          "metadata": {},
          "execution_count": 17
        }
      ]
    },
    {
      "cell_type": "code",
      "source": [
        "data1=data.select_dtypes(include=[\"int64\", \"float64\"])  # Se eliminan las columnas o atributos Tipo que es categorica y se mantienen los numericos.\n"
      ],
      "metadata": {
        "id": "2LCDUaUOrqwU"
      },
      "execution_count": null,
      "outputs": []
    },
    {
      "cell_type": "code",
      "source": [
        "data1.dtypes # Mostramos que atributo es categorico para eliminarlo y trabajar solo con los numericos."
      ],
      "metadata": {
        "colab": {
          "base_uri": "https://localhost:8080/"
        },
        "id": "l11XA0qItygy",
        "outputId": "05a51623-9b7d-46a2-9c53-eaf1f8e1910c"
      },
      "execution_count": null,
      "outputs": [
        {
          "output_type": "execute_result",
          "data": {
            "text/plain": [
              "a     float64\n",
              "c     float64\n",
              "d     float64\n",
              "e     float64\n",
              "f     float64\n",
              "g     float64\n",
              "h     float64\n",
              "i     float64\n",
              "j     float64\n",
              "k     float64\n",
              "l     float64\n",
              "m     float64\n",
              "n     float64\n",
              "o     float64\n",
              "p     float64\n",
              "q     float64\n",
              "r     float64\n",
              "s     float64\n",
              "t     float64\n",
              "u     float64\n",
              "v     float64\n",
              "w     float64\n",
              "x     float64\n",
              "y     float64\n",
              "z     float64\n",
              "ab    float64\n",
              "cd    float64\n",
              "ef    float64\n",
              "gh    float64\n",
              "ij    float64\n",
              "kl    float64\n",
              "dtype: object"
            ]
          },
          "metadata": {},
          "execution_count": 19
        }
      ]
    },
    {
      "cell_type": "code",
      "source": [
        "data2=data1.copy() # Permite hacer copias a la base de datos original.\n",
        "data3=data1.copy()\n",
        "data2[\"a\"],data2[\"f\"]=data[\"a\"],data[\"f\"]"
      ],
      "metadata": {
        "id": "6FJgXkCl8xdl"
      },
      "execution_count": null,
      "outputs": []
    },
    {
      "cell_type": "code",
      "source": [
        "# METODOLOGÍAS PARA RELLENAR DATOS\n",
        "def impute_nan_meanmedian(data2, variable, value):\n",
        "    if value==\"median\":\n",
        "        val=data2[variable].median()\n",
        "    if value==\"mean\":\n",
        "        val=data2[variable].mean()\n",
        "    data2[variable+\"_\"+value]=data2[variable].fillna(val)\n",
        "    return data2\n",
        "import random\n",
        "def rand_float_range(start, end):\n",
        "    return random.random() * (end - start) + start\n",
        "\n",
        "def impute_nan_random(data2, variable, value=-9):\n",
        "    if value!=-9:\n",
        "        data2[variable+\"_random_fixed\"]=data2[variable].fillna(value)\n",
        "    else:\n",
        "        start,end=data2[variable].min(),data2[variable].max()\n",
        "        data2[variable+\"_random\"]=data2[variable].fillna(rand_float_range(start,end)) #Este codigo permite rellenar los NaN con los datos deseados.\n",
        "    return data2"
      ],
      "metadata": {
        "id": "b8Hk8mOc-aGU"
      },
      "execution_count": null,
      "outputs": []
    },
    {
      "cell_type": "markdown",
      "source": [
        "**El codigo anterior tiene como principal funcionalidad agregar en las partes \n",
        "donde se encuentren datos faltantes, el valor de la media, mediana, -9. Los valores son los que el individuo desee.**"
      ],
      "metadata": {
        "id": "l-DSl-Smlrku"
      }
    },
    {
      "cell_type": "code",
      "source": [
        "\n",
        "data4=impute_nan_random(data2,\"ab\",-9)# Me permite rellenar los NaN con -9"
      ],
      "metadata": {
        "id": "MJs4nxAPAPZS"
      },
      "execution_count": null,
      "outputs": []
    },
    {
      "cell_type": "code",
      "source": [
        "data4=impute_nan_random(data2,\"ab\",0.02)"
      ],
      "metadata": {
        "id": "UYaqnfx5uK4g"
      },
      "execution_count": null,
      "outputs": []
    },
    {
      "cell_type": "code",
      "source": [
        "data4=impute_nan_meanmedian(data2,\"ab\",\"median\")# Me permite rellenar los NaN con el valor de la mediana."
      ],
      "metadata": {
        "id": "l6r819A_C0jg"
      },
      "execution_count": null,
      "outputs": []
    },
    {
      "cell_type": "code",
      "source": [
        "data4=impute_nan_meanmedian(data2,\"ab\",\"mean\")# Me permite rellenar los NaN con el valor de la media."
      ],
      "metadata": {
        "id": "CRg2whQmAXIs"
      },
      "execution_count": null,
      "outputs": []
    },
    {
      "cell_type": "code",
      "source": [
        "data4.head(5) #Imprimo las primeras 5 filas de mi base de datos."
      ],
      "metadata": {
        "colab": {
          "base_uri": "https://localhost:8080/",
          "height": 236
        },
        "id": "BmBo7yXzgKeY",
        "outputId": "5ae3b05c-516f-4cf4-efbb-85873afe5864"
      },
      "execution_count": null,
      "outputs": [
        {
          "output_type": "execute_result",
          "data": {
            "text/plain": [
              "            a      c      d       e       f        g        h       i  \\\n",
              "0    842302.0  17.99  10.38  122.80  1001.0  0.11840  0.27760     NaN   \n",
              "1         NaN    NaN  17.77     NaN     NaN  0.08474  0.07864  0.0869   \n",
              "2  84300903.0  19.69  21.25     NaN     NaN      NaN  0.15990  0.1974   \n",
              "3  84348301.0  11.42  20.38   77.58   386.1      NaN      NaN     NaN   \n",
              "4  84358402.0  20.29    NaN  135.10     NaN      NaN  0.13280  0.1980   \n",
              "\n",
              "         j       k  ...      ab      cd      ef      gh      ij       kl  \\\n",
              "0  0.14710     NaN  ...  0.1622  0.6656     NaN     NaN     NaN  0.11890   \n",
              "1  0.07017  0.1812  ...  0.1238  0.1866  0.2416     NaN  0.2750  0.08902   \n",
              "2  0.12790  0.2069  ...     NaN  0.4245  0.4504  0.2430  0.3613  0.08758   \n",
              "3  0.10520     NaN  ...  0.2098  0.8663  0.6869  0.2575  0.6638  0.17300   \n",
              "4      NaN     NaN  ...     NaN  0.2050  0.4000  0.1625  0.2364  0.07678   \n",
              "\n",
              "   ab_random  ab_random_fixed  ab_median   ab_mean  \n",
              "0    0.16220           0.1622     0.1622  0.162200  \n",
              "1    0.12380           0.1238     0.1238  0.123800  \n",
              "2    0.16265           0.0200     0.1280  0.130911  \n",
              "3    0.20980           0.2098     0.2098  0.209800  \n",
              "4    0.16265           0.0200     0.1280  0.130911  \n",
              "\n",
              "[5 rows x 35 columns]"
            ],
            "text/html": [
              "\n",
              "  <div id=\"df-f04ca08e-fb35-48de-9096-b3e783d16168\">\n",
              "    <div class=\"colab-df-container\">\n",
              "      <div>\n",
              "<style scoped>\n",
              "    .dataframe tbody tr th:only-of-type {\n",
              "        vertical-align: middle;\n",
              "    }\n",
              "\n",
              "    .dataframe tbody tr th {\n",
              "        vertical-align: top;\n",
              "    }\n",
              "\n",
              "    .dataframe thead th {\n",
              "        text-align: right;\n",
              "    }\n",
              "</style>\n",
              "<table border=\"1\" class=\"dataframe\">\n",
              "  <thead>\n",
              "    <tr style=\"text-align: right;\">\n",
              "      <th></th>\n",
              "      <th>a</th>\n",
              "      <th>c</th>\n",
              "      <th>d</th>\n",
              "      <th>e</th>\n",
              "      <th>f</th>\n",
              "      <th>g</th>\n",
              "      <th>h</th>\n",
              "      <th>i</th>\n",
              "      <th>j</th>\n",
              "      <th>k</th>\n",
              "      <th>...</th>\n",
              "      <th>ab</th>\n",
              "      <th>cd</th>\n",
              "      <th>ef</th>\n",
              "      <th>gh</th>\n",
              "      <th>ij</th>\n",
              "      <th>kl</th>\n",
              "      <th>ab_random</th>\n",
              "      <th>ab_random_fixed</th>\n",
              "      <th>ab_median</th>\n",
              "      <th>ab_mean</th>\n",
              "    </tr>\n",
              "  </thead>\n",
              "  <tbody>\n",
              "    <tr>\n",
              "      <th>0</th>\n",
              "      <td>842302.0</td>\n",
              "      <td>17.99</td>\n",
              "      <td>10.38</td>\n",
              "      <td>122.80</td>\n",
              "      <td>1001.0</td>\n",
              "      <td>0.11840</td>\n",
              "      <td>0.27760</td>\n",
              "      <td>NaN</td>\n",
              "      <td>0.14710</td>\n",
              "      <td>NaN</td>\n",
              "      <td>...</td>\n",
              "      <td>0.1622</td>\n",
              "      <td>0.6656</td>\n",
              "      <td>NaN</td>\n",
              "      <td>NaN</td>\n",
              "      <td>NaN</td>\n",
              "      <td>0.11890</td>\n",
              "      <td>0.16220</td>\n",
              "      <td>0.1622</td>\n",
              "      <td>0.1622</td>\n",
              "      <td>0.162200</td>\n",
              "    </tr>\n",
              "    <tr>\n",
              "      <th>1</th>\n",
              "      <td>NaN</td>\n",
              "      <td>NaN</td>\n",
              "      <td>17.77</td>\n",
              "      <td>NaN</td>\n",
              "      <td>NaN</td>\n",
              "      <td>0.08474</td>\n",
              "      <td>0.07864</td>\n",
              "      <td>0.0869</td>\n",
              "      <td>0.07017</td>\n",
              "      <td>0.1812</td>\n",
              "      <td>...</td>\n",
              "      <td>0.1238</td>\n",
              "      <td>0.1866</td>\n",
              "      <td>0.2416</td>\n",
              "      <td>NaN</td>\n",
              "      <td>0.2750</td>\n",
              "      <td>0.08902</td>\n",
              "      <td>0.12380</td>\n",
              "      <td>0.1238</td>\n",
              "      <td>0.1238</td>\n",
              "      <td>0.123800</td>\n",
              "    </tr>\n",
              "    <tr>\n",
              "      <th>2</th>\n",
              "      <td>84300903.0</td>\n",
              "      <td>19.69</td>\n",
              "      <td>21.25</td>\n",
              "      <td>NaN</td>\n",
              "      <td>NaN</td>\n",
              "      <td>NaN</td>\n",
              "      <td>0.15990</td>\n",
              "      <td>0.1974</td>\n",
              "      <td>0.12790</td>\n",
              "      <td>0.2069</td>\n",
              "      <td>...</td>\n",
              "      <td>NaN</td>\n",
              "      <td>0.4245</td>\n",
              "      <td>0.4504</td>\n",
              "      <td>0.2430</td>\n",
              "      <td>0.3613</td>\n",
              "      <td>0.08758</td>\n",
              "      <td>0.16265</td>\n",
              "      <td>0.0200</td>\n",
              "      <td>0.1280</td>\n",
              "      <td>0.130911</td>\n",
              "    </tr>\n",
              "    <tr>\n",
              "      <th>3</th>\n",
              "      <td>84348301.0</td>\n",
              "      <td>11.42</td>\n",
              "      <td>20.38</td>\n",
              "      <td>77.58</td>\n",
              "      <td>386.1</td>\n",
              "      <td>NaN</td>\n",
              "      <td>NaN</td>\n",
              "      <td>NaN</td>\n",
              "      <td>0.10520</td>\n",
              "      <td>NaN</td>\n",
              "      <td>...</td>\n",
              "      <td>0.2098</td>\n",
              "      <td>0.8663</td>\n",
              "      <td>0.6869</td>\n",
              "      <td>0.2575</td>\n",
              "      <td>0.6638</td>\n",
              "      <td>0.17300</td>\n",
              "      <td>0.20980</td>\n",
              "      <td>0.2098</td>\n",
              "      <td>0.2098</td>\n",
              "      <td>0.209800</td>\n",
              "    </tr>\n",
              "    <tr>\n",
              "      <th>4</th>\n",
              "      <td>84358402.0</td>\n",
              "      <td>20.29</td>\n",
              "      <td>NaN</td>\n",
              "      <td>135.10</td>\n",
              "      <td>NaN</td>\n",
              "      <td>NaN</td>\n",
              "      <td>0.13280</td>\n",
              "      <td>0.1980</td>\n",
              "      <td>NaN</td>\n",
              "      <td>NaN</td>\n",
              "      <td>...</td>\n",
              "      <td>NaN</td>\n",
              "      <td>0.2050</td>\n",
              "      <td>0.4000</td>\n",
              "      <td>0.1625</td>\n",
              "      <td>0.2364</td>\n",
              "      <td>0.07678</td>\n",
              "      <td>0.16265</td>\n",
              "      <td>0.0200</td>\n",
              "      <td>0.1280</td>\n",
              "      <td>0.130911</td>\n",
              "    </tr>\n",
              "  </tbody>\n",
              "</table>\n",
              "<p>5 rows × 35 columns</p>\n",
              "</div>\n",
              "      <button class=\"colab-df-convert\" onclick=\"convertToInteractive('df-f04ca08e-fb35-48de-9096-b3e783d16168')\"\n",
              "              title=\"Convert this dataframe to an interactive table.\"\n",
              "              style=\"display:none;\">\n",
              "        \n",
              "  <svg xmlns=\"http://www.w3.org/2000/svg\" height=\"24px\"viewBox=\"0 0 24 24\"\n",
              "       width=\"24px\">\n",
              "    <path d=\"M0 0h24v24H0V0z\" fill=\"none\"/>\n",
              "    <path d=\"M18.56 5.44l.94 2.06.94-2.06 2.06-.94-2.06-.94-.94-2.06-.94 2.06-2.06.94zm-11 1L8.5 8.5l.94-2.06 2.06-.94-2.06-.94L8.5 2.5l-.94 2.06-2.06.94zm10 10l.94 2.06.94-2.06 2.06-.94-2.06-.94-.94-2.06-.94 2.06-2.06.94z\"/><path d=\"M17.41 7.96l-1.37-1.37c-.4-.4-.92-.59-1.43-.59-.52 0-1.04.2-1.43.59L10.3 9.45l-7.72 7.72c-.78.78-.78 2.05 0 2.83L4 21.41c.39.39.9.59 1.41.59.51 0 1.02-.2 1.41-.59l7.78-7.78 2.81-2.81c.8-.78.8-2.07 0-2.86zM5.41 20L4 18.59l7.72-7.72 1.47 1.35L5.41 20z\"/>\n",
              "  </svg>\n",
              "      </button>\n",
              "      \n",
              "  <style>\n",
              "    .colab-df-container {\n",
              "      display:flex;\n",
              "      flex-wrap:wrap;\n",
              "      gap: 12px;\n",
              "    }\n",
              "\n",
              "    .colab-df-convert {\n",
              "      background-color: #E8F0FE;\n",
              "      border: none;\n",
              "      border-radius: 50%;\n",
              "      cursor: pointer;\n",
              "      display: none;\n",
              "      fill: #1967D2;\n",
              "      height: 32px;\n",
              "      padding: 0 0 0 0;\n",
              "      width: 32px;\n",
              "    }\n",
              "\n",
              "    .colab-df-convert:hover {\n",
              "      background-color: #E2EBFA;\n",
              "      box-shadow: 0px 1px 2px rgba(60, 64, 67, 0.3), 0px 1px 3px 1px rgba(60, 64, 67, 0.15);\n",
              "      fill: #174EA6;\n",
              "    }\n",
              "\n",
              "    [theme=dark] .colab-df-convert {\n",
              "      background-color: #3B4455;\n",
              "      fill: #D2E3FC;\n",
              "    }\n",
              "\n",
              "    [theme=dark] .colab-df-convert:hover {\n",
              "      background-color: #434B5C;\n",
              "      box-shadow: 0px 1px 3px 1px rgba(0, 0, 0, 0.15);\n",
              "      filter: drop-shadow(0px 1px 2px rgba(0, 0, 0, 0.3));\n",
              "      fill: #FFFFFF;\n",
              "    }\n",
              "  </style>\n",
              "\n",
              "      <script>\n",
              "        const buttonEl =\n",
              "          document.querySelector('#df-f04ca08e-fb35-48de-9096-b3e783d16168 button.colab-df-convert');\n",
              "        buttonEl.style.display =\n",
              "          google.colab.kernel.accessAllowed ? 'block' : 'none';\n",
              "\n",
              "        async function convertToInteractive(key) {\n",
              "          const element = document.querySelector('#df-f04ca08e-fb35-48de-9096-b3e783d16168');\n",
              "          const dataTable =\n",
              "            await google.colab.kernel.invokeFunction('convertToInteractive',\n",
              "                                                     [key], {});\n",
              "          if (!dataTable) return;\n",
              "\n",
              "          const docLinkHtml = 'Like what you see? Visit the ' +\n",
              "            '<a target=\"_blank\" href=https://colab.research.google.com/notebooks/data_table.ipynb>data table notebook</a>'\n",
              "            + ' to learn more about interactive tables.';\n",
              "          element.innerHTML = '';\n",
              "          dataTable['output_type'] = 'display_data';\n",
              "          await google.colab.output.renderOutput(dataTable, element);\n",
              "          const docLink = document.createElement('div');\n",
              "          docLink.innerHTML = docLinkHtml;\n",
              "          element.appendChild(docLink);\n",
              "        }\n",
              "      </script>\n",
              "    </div>\n",
              "  </div>\n",
              "  "
            ]
          },
          "metadata": {},
          "execution_count": 26
        }
      ]
    },
    {
      "cell_type": "code",
      "source": [
        "# MACHINE LEARNING \n",
        "from sklearn.impute import KNNImputer\n",
        "# Definir imputador\n",
        "imputer = KNNImputer(n_neighbors=5, weights='uniform', metric='nan_euclidean')\n",
        "# Encajar en los datos\n",
        "imputer.fit(data3)\n",
        "# Transformar el conjunto de datos\n",
        "Xtrans = imputer.transform(data3)"
      ],
      "metadata": {
        "id": "Gls6e0dTgqPt"
      },
      "execution_count": null,
      "outputs": []
    },
    {
      "cell_type": "code",
      "source": [
        "data3.head(5) # Observo una de las copias de la base de datos original con NaN"
      ],
      "metadata": {
        "colab": {
          "base_uri": "https://localhost:8080/",
          "height": 236
        },
        "id": "WHrJInE4uw24",
        "outputId": "d811c6fa-ed00-4e2c-bcbd-941abb1acf24"
      },
      "execution_count": null,
      "outputs": [
        {
          "output_type": "execute_result",
          "data": {
            "text/plain": [
              "            a      c      d       e       f        g        h       i  \\\n",
              "0    842302.0  17.99  10.38  122.80  1001.0  0.11840  0.27760     NaN   \n",
              "1         NaN    NaN  17.77     NaN     NaN  0.08474  0.07864  0.0869   \n",
              "2  84300903.0  19.69  21.25     NaN     NaN      NaN  0.15990  0.1974   \n",
              "3  84348301.0  11.42  20.38   77.58   386.1      NaN      NaN     NaN   \n",
              "4  84358402.0  20.29    NaN  135.10     NaN      NaN  0.13280  0.1980   \n",
              "\n",
              "         j       k  ...      w      x       y       z      ab      cd      ef  \\\n",
              "0  0.14710     NaN  ...  25.38  17.33  184.60  2019.0  0.1622  0.6656     NaN   \n",
              "1  0.07017  0.1812  ...  24.99    NaN  158.80  1956.0  0.1238  0.1866  0.2416   \n",
              "2  0.12790  0.2069  ...  23.57  25.53  152.50  1709.0     NaN  0.4245  0.4504   \n",
              "3  0.10520     NaN  ...  14.91  26.50   98.87   567.7  0.2098  0.8663  0.6869   \n",
              "4      NaN     NaN  ...  22.54  16.67  152.20  1575.0     NaN  0.2050  0.4000   \n",
              "\n",
              "       gh      ij       kl  \n",
              "0     NaN     NaN  0.11890  \n",
              "1     NaN  0.2750  0.08902  \n",
              "2  0.2430  0.3613  0.08758  \n",
              "3  0.2575  0.6638  0.17300  \n",
              "4  0.1625  0.2364  0.07678  \n",
              "\n",
              "[5 rows x 31 columns]"
            ],
            "text/html": [
              "\n",
              "  <div id=\"df-585005d4-c3be-4523-a341-ff8ad72a7849\">\n",
              "    <div class=\"colab-df-container\">\n",
              "      <div>\n",
              "<style scoped>\n",
              "    .dataframe tbody tr th:only-of-type {\n",
              "        vertical-align: middle;\n",
              "    }\n",
              "\n",
              "    .dataframe tbody tr th {\n",
              "        vertical-align: top;\n",
              "    }\n",
              "\n",
              "    .dataframe thead th {\n",
              "        text-align: right;\n",
              "    }\n",
              "</style>\n",
              "<table border=\"1\" class=\"dataframe\">\n",
              "  <thead>\n",
              "    <tr style=\"text-align: right;\">\n",
              "      <th></th>\n",
              "      <th>a</th>\n",
              "      <th>c</th>\n",
              "      <th>d</th>\n",
              "      <th>e</th>\n",
              "      <th>f</th>\n",
              "      <th>g</th>\n",
              "      <th>h</th>\n",
              "      <th>i</th>\n",
              "      <th>j</th>\n",
              "      <th>k</th>\n",
              "      <th>...</th>\n",
              "      <th>w</th>\n",
              "      <th>x</th>\n",
              "      <th>y</th>\n",
              "      <th>z</th>\n",
              "      <th>ab</th>\n",
              "      <th>cd</th>\n",
              "      <th>ef</th>\n",
              "      <th>gh</th>\n",
              "      <th>ij</th>\n",
              "      <th>kl</th>\n",
              "    </tr>\n",
              "  </thead>\n",
              "  <tbody>\n",
              "    <tr>\n",
              "      <th>0</th>\n",
              "      <td>842302.0</td>\n",
              "      <td>17.99</td>\n",
              "      <td>10.38</td>\n",
              "      <td>122.80</td>\n",
              "      <td>1001.0</td>\n",
              "      <td>0.11840</td>\n",
              "      <td>0.27760</td>\n",
              "      <td>NaN</td>\n",
              "      <td>0.14710</td>\n",
              "      <td>NaN</td>\n",
              "      <td>...</td>\n",
              "      <td>25.38</td>\n",
              "      <td>17.33</td>\n",
              "      <td>184.60</td>\n",
              "      <td>2019.0</td>\n",
              "      <td>0.1622</td>\n",
              "      <td>0.6656</td>\n",
              "      <td>NaN</td>\n",
              "      <td>NaN</td>\n",
              "      <td>NaN</td>\n",
              "      <td>0.11890</td>\n",
              "    </tr>\n",
              "    <tr>\n",
              "      <th>1</th>\n",
              "      <td>NaN</td>\n",
              "      <td>NaN</td>\n",
              "      <td>17.77</td>\n",
              "      <td>NaN</td>\n",
              "      <td>NaN</td>\n",
              "      <td>0.08474</td>\n",
              "      <td>0.07864</td>\n",
              "      <td>0.0869</td>\n",
              "      <td>0.07017</td>\n",
              "      <td>0.1812</td>\n",
              "      <td>...</td>\n",
              "      <td>24.99</td>\n",
              "      <td>NaN</td>\n",
              "      <td>158.80</td>\n",
              "      <td>1956.0</td>\n",
              "      <td>0.1238</td>\n",
              "      <td>0.1866</td>\n",
              "      <td>0.2416</td>\n",
              "      <td>NaN</td>\n",
              "      <td>0.2750</td>\n",
              "      <td>0.08902</td>\n",
              "    </tr>\n",
              "    <tr>\n",
              "      <th>2</th>\n",
              "      <td>84300903.0</td>\n",
              "      <td>19.69</td>\n",
              "      <td>21.25</td>\n",
              "      <td>NaN</td>\n",
              "      <td>NaN</td>\n",
              "      <td>NaN</td>\n",
              "      <td>0.15990</td>\n",
              "      <td>0.1974</td>\n",
              "      <td>0.12790</td>\n",
              "      <td>0.2069</td>\n",
              "      <td>...</td>\n",
              "      <td>23.57</td>\n",
              "      <td>25.53</td>\n",
              "      <td>152.50</td>\n",
              "      <td>1709.0</td>\n",
              "      <td>NaN</td>\n",
              "      <td>0.4245</td>\n",
              "      <td>0.4504</td>\n",
              "      <td>0.2430</td>\n",
              "      <td>0.3613</td>\n",
              "      <td>0.08758</td>\n",
              "    </tr>\n",
              "    <tr>\n",
              "      <th>3</th>\n",
              "      <td>84348301.0</td>\n",
              "      <td>11.42</td>\n",
              "      <td>20.38</td>\n",
              "      <td>77.58</td>\n",
              "      <td>386.1</td>\n",
              "      <td>NaN</td>\n",
              "      <td>NaN</td>\n",
              "      <td>NaN</td>\n",
              "      <td>0.10520</td>\n",
              "      <td>NaN</td>\n",
              "      <td>...</td>\n",
              "      <td>14.91</td>\n",
              "      <td>26.50</td>\n",
              "      <td>98.87</td>\n",
              "      <td>567.7</td>\n",
              "      <td>0.2098</td>\n",
              "      <td>0.8663</td>\n",
              "      <td>0.6869</td>\n",
              "      <td>0.2575</td>\n",
              "      <td>0.6638</td>\n",
              "      <td>0.17300</td>\n",
              "    </tr>\n",
              "    <tr>\n",
              "      <th>4</th>\n",
              "      <td>84358402.0</td>\n",
              "      <td>20.29</td>\n",
              "      <td>NaN</td>\n",
              "      <td>135.10</td>\n",
              "      <td>NaN</td>\n",
              "      <td>NaN</td>\n",
              "      <td>0.13280</td>\n",
              "      <td>0.1980</td>\n",
              "      <td>NaN</td>\n",
              "      <td>NaN</td>\n",
              "      <td>...</td>\n",
              "      <td>22.54</td>\n",
              "      <td>16.67</td>\n",
              "      <td>152.20</td>\n",
              "      <td>1575.0</td>\n",
              "      <td>NaN</td>\n",
              "      <td>0.2050</td>\n",
              "      <td>0.4000</td>\n",
              "      <td>0.1625</td>\n",
              "      <td>0.2364</td>\n",
              "      <td>0.07678</td>\n",
              "    </tr>\n",
              "  </tbody>\n",
              "</table>\n",
              "<p>5 rows × 31 columns</p>\n",
              "</div>\n",
              "      <button class=\"colab-df-convert\" onclick=\"convertToInteractive('df-585005d4-c3be-4523-a341-ff8ad72a7849')\"\n",
              "              title=\"Convert this dataframe to an interactive table.\"\n",
              "              style=\"display:none;\">\n",
              "        \n",
              "  <svg xmlns=\"http://www.w3.org/2000/svg\" height=\"24px\"viewBox=\"0 0 24 24\"\n",
              "       width=\"24px\">\n",
              "    <path d=\"M0 0h24v24H0V0z\" fill=\"none\"/>\n",
              "    <path d=\"M18.56 5.44l.94 2.06.94-2.06 2.06-.94-2.06-.94-.94-2.06-.94 2.06-2.06.94zm-11 1L8.5 8.5l.94-2.06 2.06-.94-2.06-.94L8.5 2.5l-.94 2.06-2.06.94zm10 10l.94 2.06.94-2.06 2.06-.94-2.06-.94-.94-2.06-.94 2.06-2.06.94z\"/><path d=\"M17.41 7.96l-1.37-1.37c-.4-.4-.92-.59-1.43-.59-.52 0-1.04.2-1.43.59L10.3 9.45l-7.72 7.72c-.78.78-.78 2.05 0 2.83L4 21.41c.39.39.9.59 1.41.59.51 0 1.02-.2 1.41-.59l7.78-7.78 2.81-2.81c.8-.78.8-2.07 0-2.86zM5.41 20L4 18.59l7.72-7.72 1.47 1.35L5.41 20z\"/>\n",
              "  </svg>\n",
              "      </button>\n",
              "      \n",
              "  <style>\n",
              "    .colab-df-container {\n",
              "      display:flex;\n",
              "      flex-wrap:wrap;\n",
              "      gap: 12px;\n",
              "    }\n",
              "\n",
              "    .colab-df-convert {\n",
              "      background-color: #E8F0FE;\n",
              "      border: none;\n",
              "      border-radius: 50%;\n",
              "      cursor: pointer;\n",
              "      display: none;\n",
              "      fill: #1967D2;\n",
              "      height: 32px;\n",
              "      padding: 0 0 0 0;\n",
              "      width: 32px;\n",
              "    }\n",
              "\n",
              "    .colab-df-convert:hover {\n",
              "      background-color: #E2EBFA;\n",
              "      box-shadow: 0px 1px 2px rgba(60, 64, 67, 0.3), 0px 1px 3px 1px rgba(60, 64, 67, 0.15);\n",
              "      fill: #174EA6;\n",
              "    }\n",
              "\n",
              "    [theme=dark] .colab-df-convert {\n",
              "      background-color: #3B4455;\n",
              "      fill: #D2E3FC;\n",
              "    }\n",
              "\n",
              "    [theme=dark] .colab-df-convert:hover {\n",
              "      background-color: #434B5C;\n",
              "      box-shadow: 0px 1px 3px 1px rgba(0, 0, 0, 0.15);\n",
              "      filter: drop-shadow(0px 1px 2px rgba(0, 0, 0, 0.3));\n",
              "      fill: #FFFFFF;\n",
              "    }\n",
              "  </style>\n",
              "\n",
              "      <script>\n",
              "        const buttonEl =\n",
              "          document.querySelector('#df-585005d4-c3be-4523-a341-ff8ad72a7849 button.colab-df-convert');\n",
              "        buttonEl.style.display =\n",
              "          google.colab.kernel.accessAllowed ? 'block' : 'none';\n",
              "\n",
              "        async function convertToInteractive(key) {\n",
              "          const element = document.querySelector('#df-585005d4-c3be-4523-a341-ff8ad72a7849');\n",
              "          const dataTable =\n",
              "            await google.colab.kernel.invokeFunction('convertToInteractive',\n",
              "                                                     [key], {});\n",
              "          if (!dataTable) return;\n",
              "\n",
              "          const docLinkHtml = 'Like what you see? Visit the ' +\n",
              "            '<a target=\"_blank\" href=https://colab.research.google.com/notebooks/data_table.ipynb>data table notebook</a>'\n",
              "            + ' to learn more about interactive tables.';\n",
              "          element.innerHTML = '';\n",
              "          dataTable['output_type'] = 'display_data';\n",
              "          await google.colab.output.renderOutput(dataTable, element);\n",
              "          const docLink = document.createElement('div');\n",
              "          docLink.innerHTML = docLinkHtml;\n",
              "          element.appendChild(docLink);\n",
              "        }\n",
              "      </script>\n",
              "    </div>\n",
              "  </div>\n",
              "  "
            ]
          },
          "metadata": {},
          "execution_count": 28
        }
      ]
    },
    {
      "cell_type": "code",
      "source": [
        "Xtrans #Xtrans sale como un arreglo en la cual se ingresan las columnas de Datos."
      ],
      "metadata": {
        "colab": {
          "base_uri": "https://localhost:8080/"
        },
        "id": "J9BaLf2Nu1bG",
        "outputId": "774147b7-af95-4c6c-a72b-2cf05b7e27f4"
      },
      "execution_count": null,
      "outputs": [
        {
          "output_type": "execute_result",
          "data": {
            "text/plain": [
              "array([[8.4230200e+05, 1.7990000e+01, 1.0380000e+01, ..., 1.8994000e-01,\n",
              "        2.9144000e-01, 1.1890000e-01],\n",
              "       [8.8936780e+05, 1.9544000e+01, 1.7770000e+01, ..., 2.2116000e-01,\n",
              "        2.7500000e-01, 8.9020000e-02],\n",
              "       [8.4300903e+07, 1.9690000e+01, 2.1250000e+01, ..., 2.4300000e-01,\n",
              "        3.6130000e-01, 8.7580000e-02],\n",
              "       ...,\n",
              "       [9.2695400e+05, 1.6698000e+01, 1.8754000e+01, ..., 1.4180000e-01,\n",
              "        2.2180000e-01, 7.8200000e-02],\n",
              "       [7.3840600e+05, 1.9906000e+01, 2.9330000e+01, ..., 1.8372000e-01,\n",
              "        4.0870000e-01, 1.2400000e-01],\n",
              "       [9.2751000e+04, 7.7600000e+00, 2.4540000e+01, ..., 0.0000000e+00,\n",
              "        2.8710000e-01, 7.0390000e-02]])"
            ]
          },
          "metadata": {},
          "execution_count": 29
        }
      ]
    },
    {
      "cell_type": "code",
      "source": [
        "Xtrans=pd.DataFrame(Xtrans,columns=data3.columns) "
      ],
      "metadata": {
        "id": "ELVtE77EvT2N"
      },
      "execution_count": null,
      "outputs": []
    },
    {
      "cell_type": "code",
      "source": [
        "Xtrans.head(5) "
      ],
      "metadata": {
        "colab": {
          "base_uri": "https://localhost:8080/",
          "height": 236
        },
        "id": "6plUmBR1vWht",
        "outputId": "854c12cf-7790-4f11-c99d-ed6e21efdcaa"
      },
      "execution_count": null,
      "outputs": [
        {
          "output_type": "execute_result",
          "data": {
            "text/plain": [
              "            a       c       d       e        f         g         h         i  \\\n",
              "0    842302.0  17.990  10.380  122.80  1001.00  0.118400  0.277600  0.161040   \n",
              "1    889367.8  19.544  17.770  139.60  1331.00  0.084740  0.078640  0.086900   \n",
              "2  84300903.0  19.690  21.250  131.04  1167.78  0.101936  0.159900  0.197400   \n",
              "3  84348301.0  11.420  20.380   77.58   386.10  0.093738  0.077722  0.043895   \n",
              "4  84358402.0  20.290  20.406  135.10  1098.90  0.098252  0.132800  0.198000   \n",
              "\n",
              "          j        k  ...      w       x       y       z       ab      cd  \\\n",
              "0  0.147100  0.18568  ...  25.38  17.330  184.60  2019.0  0.16220  0.6656   \n",
              "1  0.070170  0.18120  ...  24.99  29.106  158.80  1956.0  0.12380  0.1866   \n",
              "2  0.127900  0.20690  ...  23.57  25.530  152.50  1709.0  0.13662  0.4245   \n",
              "3  0.105200  0.17300  ...  14.91  26.500   98.87   567.7  0.20980  0.8663   \n",
              "4  0.088912  0.19376  ...  22.54  16.670  152.20  1575.0  0.13138  0.2050   \n",
              "\n",
              "        ef       gh       ij       kl  \n",
              "0  0.38124  0.18994  0.29144  0.11890  \n",
              "1  0.24160  0.22116  0.27500  0.08902  \n",
              "2  0.45040  0.24300  0.36130  0.08758  \n",
              "3  0.68690  0.25750  0.66380  0.17300  \n",
              "4  0.40000  0.16250  0.23640  0.07678  \n",
              "\n",
              "[5 rows x 31 columns]"
            ],
            "text/html": [
              "\n",
              "  <div id=\"df-c46e1332-17e2-4fe2-a0f8-dd8f1345deeb\">\n",
              "    <div class=\"colab-df-container\">\n",
              "      <div>\n",
              "<style scoped>\n",
              "    .dataframe tbody tr th:only-of-type {\n",
              "        vertical-align: middle;\n",
              "    }\n",
              "\n",
              "    .dataframe tbody tr th {\n",
              "        vertical-align: top;\n",
              "    }\n",
              "\n",
              "    .dataframe thead th {\n",
              "        text-align: right;\n",
              "    }\n",
              "</style>\n",
              "<table border=\"1\" class=\"dataframe\">\n",
              "  <thead>\n",
              "    <tr style=\"text-align: right;\">\n",
              "      <th></th>\n",
              "      <th>a</th>\n",
              "      <th>c</th>\n",
              "      <th>d</th>\n",
              "      <th>e</th>\n",
              "      <th>f</th>\n",
              "      <th>g</th>\n",
              "      <th>h</th>\n",
              "      <th>i</th>\n",
              "      <th>j</th>\n",
              "      <th>k</th>\n",
              "      <th>...</th>\n",
              "      <th>w</th>\n",
              "      <th>x</th>\n",
              "      <th>y</th>\n",
              "      <th>z</th>\n",
              "      <th>ab</th>\n",
              "      <th>cd</th>\n",
              "      <th>ef</th>\n",
              "      <th>gh</th>\n",
              "      <th>ij</th>\n",
              "      <th>kl</th>\n",
              "    </tr>\n",
              "  </thead>\n",
              "  <tbody>\n",
              "    <tr>\n",
              "      <th>0</th>\n",
              "      <td>842302.0</td>\n",
              "      <td>17.990</td>\n",
              "      <td>10.380</td>\n",
              "      <td>122.80</td>\n",
              "      <td>1001.00</td>\n",
              "      <td>0.118400</td>\n",
              "      <td>0.277600</td>\n",
              "      <td>0.161040</td>\n",
              "      <td>0.147100</td>\n",
              "      <td>0.18568</td>\n",
              "      <td>...</td>\n",
              "      <td>25.38</td>\n",
              "      <td>17.330</td>\n",
              "      <td>184.60</td>\n",
              "      <td>2019.0</td>\n",
              "      <td>0.16220</td>\n",
              "      <td>0.6656</td>\n",
              "      <td>0.38124</td>\n",
              "      <td>0.18994</td>\n",
              "      <td>0.29144</td>\n",
              "      <td>0.11890</td>\n",
              "    </tr>\n",
              "    <tr>\n",
              "      <th>1</th>\n",
              "      <td>889367.8</td>\n",
              "      <td>19.544</td>\n",
              "      <td>17.770</td>\n",
              "      <td>139.60</td>\n",
              "      <td>1331.00</td>\n",
              "      <td>0.084740</td>\n",
              "      <td>0.078640</td>\n",
              "      <td>0.086900</td>\n",
              "      <td>0.070170</td>\n",
              "      <td>0.18120</td>\n",
              "      <td>...</td>\n",
              "      <td>24.99</td>\n",
              "      <td>29.106</td>\n",
              "      <td>158.80</td>\n",
              "      <td>1956.0</td>\n",
              "      <td>0.12380</td>\n",
              "      <td>0.1866</td>\n",
              "      <td>0.24160</td>\n",
              "      <td>0.22116</td>\n",
              "      <td>0.27500</td>\n",
              "      <td>0.08902</td>\n",
              "    </tr>\n",
              "    <tr>\n",
              "      <th>2</th>\n",
              "      <td>84300903.0</td>\n",
              "      <td>19.690</td>\n",
              "      <td>21.250</td>\n",
              "      <td>131.04</td>\n",
              "      <td>1167.78</td>\n",
              "      <td>0.101936</td>\n",
              "      <td>0.159900</td>\n",
              "      <td>0.197400</td>\n",
              "      <td>0.127900</td>\n",
              "      <td>0.20690</td>\n",
              "      <td>...</td>\n",
              "      <td>23.57</td>\n",
              "      <td>25.530</td>\n",
              "      <td>152.50</td>\n",
              "      <td>1709.0</td>\n",
              "      <td>0.13662</td>\n",
              "      <td>0.4245</td>\n",
              "      <td>0.45040</td>\n",
              "      <td>0.24300</td>\n",
              "      <td>0.36130</td>\n",
              "      <td>0.08758</td>\n",
              "    </tr>\n",
              "    <tr>\n",
              "      <th>3</th>\n",
              "      <td>84348301.0</td>\n",
              "      <td>11.420</td>\n",
              "      <td>20.380</td>\n",
              "      <td>77.58</td>\n",
              "      <td>386.10</td>\n",
              "      <td>0.093738</td>\n",
              "      <td>0.077722</td>\n",
              "      <td>0.043895</td>\n",
              "      <td>0.105200</td>\n",
              "      <td>0.17300</td>\n",
              "      <td>...</td>\n",
              "      <td>14.91</td>\n",
              "      <td>26.500</td>\n",
              "      <td>98.87</td>\n",
              "      <td>567.7</td>\n",
              "      <td>0.20980</td>\n",
              "      <td>0.8663</td>\n",
              "      <td>0.68690</td>\n",
              "      <td>0.25750</td>\n",
              "      <td>0.66380</td>\n",
              "      <td>0.17300</td>\n",
              "    </tr>\n",
              "    <tr>\n",
              "      <th>4</th>\n",
              "      <td>84358402.0</td>\n",
              "      <td>20.290</td>\n",
              "      <td>20.406</td>\n",
              "      <td>135.10</td>\n",
              "      <td>1098.90</td>\n",
              "      <td>0.098252</td>\n",
              "      <td>0.132800</td>\n",
              "      <td>0.198000</td>\n",
              "      <td>0.088912</td>\n",
              "      <td>0.19376</td>\n",
              "      <td>...</td>\n",
              "      <td>22.54</td>\n",
              "      <td>16.670</td>\n",
              "      <td>152.20</td>\n",
              "      <td>1575.0</td>\n",
              "      <td>0.13138</td>\n",
              "      <td>0.2050</td>\n",
              "      <td>0.40000</td>\n",
              "      <td>0.16250</td>\n",
              "      <td>0.23640</td>\n",
              "      <td>0.07678</td>\n",
              "    </tr>\n",
              "  </tbody>\n",
              "</table>\n",
              "<p>5 rows × 31 columns</p>\n",
              "</div>\n",
              "      <button class=\"colab-df-convert\" onclick=\"convertToInteractive('df-c46e1332-17e2-4fe2-a0f8-dd8f1345deeb')\"\n",
              "              title=\"Convert this dataframe to an interactive table.\"\n",
              "              style=\"display:none;\">\n",
              "        \n",
              "  <svg xmlns=\"http://www.w3.org/2000/svg\" height=\"24px\"viewBox=\"0 0 24 24\"\n",
              "       width=\"24px\">\n",
              "    <path d=\"M0 0h24v24H0V0z\" fill=\"none\"/>\n",
              "    <path d=\"M18.56 5.44l.94 2.06.94-2.06 2.06-.94-2.06-.94-.94-2.06-.94 2.06-2.06.94zm-11 1L8.5 8.5l.94-2.06 2.06-.94-2.06-.94L8.5 2.5l-.94 2.06-2.06.94zm10 10l.94 2.06.94-2.06 2.06-.94-2.06-.94-.94-2.06-.94 2.06-2.06.94z\"/><path d=\"M17.41 7.96l-1.37-1.37c-.4-.4-.92-.59-1.43-.59-.52 0-1.04.2-1.43.59L10.3 9.45l-7.72 7.72c-.78.78-.78 2.05 0 2.83L4 21.41c.39.39.9.59 1.41.59.51 0 1.02-.2 1.41-.59l7.78-7.78 2.81-2.81c.8-.78.8-2.07 0-2.86zM5.41 20L4 18.59l7.72-7.72 1.47 1.35L5.41 20z\"/>\n",
              "  </svg>\n",
              "      </button>\n",
              "      \n",
              "  <style>\n",
              "    .colab-df-container {\n",
              "      display:flex;\n",
              "      flex-wrap:wrap;\n",
              "      gap: 12px;\n",
              "    }\n",
              "\n",
              "    .colab-df-convert {\n",
              "      background-color: #E8F0FE;\n",
              "      border: none;\n",
              "      border-radius: 50%;\n",
              "      cursor: pointer;\n",
              "      display: none;\n",
              "      fill: #1967D2;\n",
              "      height: 32px;\n",
              "      padding: 0 0 0 0;\n",
              "      width: 32px;\n",
              "    }\n",
              "\n",
              "    .colab-df-convert:hover {\n",
              "      background-color: #E2EBFA;\n",
              "      box-shadow: 0px 1px 2px rgba(60, 64, 67, 0.3), 0px 1px 3px 1px rgba(60, 64, 67, 0.15);\n",
              "      fill: #174EA6;\n",
              "    }\n",
              "\n",
              "    [theme=dark] .colab-df-convert {\n",
              "      background-color: #3B4455;\n",
              "      fill: #D2E3FC;\n",
              "    }\n",
              "\n",
              "    [theme=dark] .colab-df-convert:hover {\n",
              "      background-color: #434B5C;\n",
              "      box-shadow: 0px 1px 3px 1px rgba(0, 0, 0, 0.15);\n",
              "      filter: drop-shadow(0px 1px 2px rgba(0, 0, 0, 0.3));\n",
              "      fill: #FFFFFF;\n",
              "    }\n",
              "  </style>\n",
              "\n",
              "      <script>\n",
              "        const buttonEl =\n",
              "          document.querySelector('#df-c46e1332-17e2-4fe2-a0f8-dd8f1345deeb button.colab-df-convert');\n",
              "        buttonEl.style.display =\n",
              "          google.colab.kernel.accessAllowed ? 'block' : 'none';\n",
              "\n",
              "        async function convertToInteractive(key) {\n",
              "          const element = document.querySelector('#df-c46e1332-17e2-4fe2-a0f8-dd8f1345deeb');\n",
              "          const dataTable =\n",
              "            await google.colab.kernel.invokeFunction('convertToInteractive',\n",
              "                                                     [key], {});\n",
              "          if (!dataTable) return;\n",
              "\n",
              "          const docLinkHtml = 'Like what you see? Visit the ' +\n",
              "            '<a target=\"_blank\" href=https://colab.research.google.com/notebooks/data_table.ipynb>data table notebook</a>'\n",
              "            + ' to learn more about interactive tables.';\n",
              "          element.innerHTML = '';\n",
              "          dataTable['output_type'] = 'display_data';\n",
              "          await google.colab.output.renderOutput(dataTable, element);\n",
              "          const docLink = document.createElement('div');\n",
              "          docLink.innerHTML = docLinkHtml;\n",
              "          element.appendChild(docLink);\n",
              "        }\n",
              "      </script>\n",
              "    </div>\n",
              "  </div>\n",
              "  "
            ]
          },
          "metadata": {},
          "execution_count": 31
        }
      ]
    },
    {
      "cell_type": "code",
      "source": [
        "plt.figure(figsize=(10,8)) \n",
        "plt.hist(data4[\"ab\"],label=\"Original\",color=\"k\",histtype=\"step\",bins=30,lw=3)"
      ],
      "metadata": {
        "colab": {
          "base_uri": "https://localhost:8080/",
          "height": 674
        },
        "id": "ZHGEm1oT0PHn",
        "outputId": "dd2db702-988e-415d-e6dc-78055ae34036"
      },
      "execution_count": null,
      "outputs": [
        {
          "output_type": "execute_result",
          "data": {
            "text/plain": [
              "(array([ 1.,  1.,  0.,  4., 10.,  8., 12., 13., 15., 18., 27., 24., 15.,\n",
              "        17., 14., 15., 12.,  5.,  7.,  5.,  1.,  4.,  1.,  4.,  0.,  0.,\n",
              "         0.,  1.,  0.,  1.]),\n",
              " array([0.07117   , 0.07621767, 0.08126533, 0.086313  , 0.09136067,\n",
              "        0.09640833, 0.101456  , 0.10650367, 0.11155133, 0.116599  ,\n",
              "        0.12164667, 0.12669433, 0.131742  , 0.13678967, 0.14183733,\n",
              "        0.146885  , 0.15193267, 0.15698033, 0.162028  , 0.16707567,\n",
              "        0.17212333, 0.177171  , 0.18221867, 0.18726633, 0.192314  ,\n",
              "        0.19736167, 0.20240933, 0.207457  , 0.21250467, 0.21755233,\n",
              "        0.2226    ]),\n",
              " <a list of 1 Patch objects>)"
            ]
          },
          "metadata": {},
          "execution_count": 32
        },
        {
          "output_type": "display_data",
          "data": {
            "text/plain": [
              "<Figure size 720x576 with 1 Axes>"
            ],
            "image/png": "[encoded data removed]"
          },
          "metadata": {
            "needs_background": "light"
          }
        }
      ]
    },
    {
      "cell_type": "code",
      "source": [
        "plt.figure(figsize=(10,8)) # Graficamos el ajuste de la mediana.\n",
        "plt.hist(data4[\"ab_median\"],label=\"Imputada mediana\",color=\"b\",histtype=\"step\",bins=30,lw=3)"
      ],
      "metadata": {
        "colab": {
          "base_uri": "https://localhost:8080/",
          "height": 674
        },
        "id": "Jeqt6xlm4eSi",
        "outputId": "66c4b267-d139-4df1-df12-cf91b76592ba"
      },
      "execution_count": null,
      "outputs": [
        {
          "output_type": "execute_result",
          "data": {
            "text/plain": [
              "(array([  1.,   1.,   0.,   4.,  10.,   8.,  12.,  13.,  15.,  18.,  27.,\n",
              "        358.,  15.,  17.,  14.,  15.,  12.,   5.,   7.,   5.,   1.,   4.,\n",
              "          1.,   4.,   0.,   0.,   0.,   1.,   0.,   1.]),\n",
              " array([0.07117   , 0.07621767, 0.08126533, 0.086313  , 0.09136067,\n",
              "        0.09640833, 0.101456  , 0.10650367, 0.11155133, 0.116599  ,\n",
              "        0.12164667, 0.12669433, 0.131742  , 0.13678967, 0.14183733,\n",
              "        0.146885  , 0.15193267, 0.15698033, 0.162028  , 0.16707567,\n",
              "        0.17212333, 0.177171  , 0.18221867, 0.18726633, 0.192314  ,\n",
              "        0.19736167, 0.20240933, 0.207457  , 0.21250467, 0.21755233,\n",
              "        0.2226    ]),\n",
              " <a list of 1 Patch objects>)"
            ]
          },
          "metadata": {},
          "execution_count": 33
        },
        {
          "output_type": "display_data",
          "data": {
            "text/plain": [
              "<Figure size 720x576 with 1 Axes>"
            ],
            "image/png": "[encoded data removed]"
          },
          "metadata": {
            "needs_background": "light"
          }
        }
      ]
    },
    {
      "cell_type": "code",
      "source": [
        "plt.figure(figsize=(10,8))\n",
        "plt.hist(data4[\"ab_random\"],label=\"Imputada random\",color=\"y\",histtype=\"step\",bins=30,lw=3)\n",
        "plt.hist(data4[\"ab_mean\"],label=\"Imputada media\",color=\"r\",histtype=\"step\",bins=30,lw=3)\n",
        "plt.hist(data4[\"ab_median\"],label=\"Imputada median\",color=\"b\",histtype=\"step\",bins=30,lw=3)\n",
        "plt.hist(data4[\"ab_random_fixed\"],label=\"Imputadarandom_fixed\",color=\"g\",histtype=\"step\",bins=30,lw=3)\n",
        "plt.hist(data4[\"ab\"],label=\"Original\",color=\"k\",histtype=\"step\",bins=30,lw=3)\n",
        "plt.hist(Xtrans[\"ab\"],label=\"Original KNN\",color=\"burlywood\",histtype=\"step\",bins=30,lw=3)\n",
        "plt.legend()\n",
        "plt.show()"
      ],
      "metadata": {
        "colab": {
          "base_uri": "https://localhost:8080/",
          "height": 483
        },
        "id": "DaB6BsVa5feF",
        "outputId": "81ea8981-75cf-4eb0-ed41-3910d19f812e"
      },
      "execution_count": null,
      "outputs": [
        {
          "output_type": "display_data",
          "data": {
            "text/plain": [
              "<Figure size 720x576 with 1 Axes>"
            ],
            "image/png": "[encoded data removed]"
          },
          "metadata": {
            "needs_background": "light"
          }
        }
      ]
    },
    {
      "cell_type": "markdown",
      "source": [
        "**A tráves de la gráfica se puede evidenciar que el método más acertado seria el KNN, que es el que mejor se ajusta a los datos.** "
      ],
      "metadata": {
        "id": "9Crl3Dw0EtSK"
      }
    },
    {
      "cell_type": "code",
      "source": [
        "plt.figure(figsize=(10,8))\n",
        "plt.hist(data4[\"ab\"],label=\"Original\",color=\"k\",histtype=\"step\",bins=30,lw=3)\n",
        "plt.hist(Xtrans[\"ab\"],label=\"Original\",color=\"burlywood\",histtype=\"step\",bins=30,lw=3)\n",
        "plt.legend()\n",
        "plt.show()"
      ],
      "metadata": {
        "colab": {
          "base_uri": "https://localhost:8080/",
          "height": 483
        },
        "id": "hwPZoCIL65hz",
        "outputId": "883e334f-543b-47cc-c77f-860b4b950617"
      },
      "execution_count": null,
      "outputs": [
        {
          "output_type": "display_data",
          "data": {
            "text/plain": [
              "<Figure size 720x576 with 1 Axes>"
            ],
            "image/png": "[encoded data removed]"
          },
          "metadata": {
            "needs_background": "light"
          }
        }
      ]
    },
    {
      "cell_type": "markdown",
      "source": [
        "Se puede apreciar el ajuste que tiene el metodo KNN sobre la base original. "
      ],
      "metadata": {
        "id": "rIRMk6LDSlhj"
      }
    },
    {
      "cell_type": "code",
      "source": [
        "names=[\"a\",\"b\",\"c\",\"d\",\"e\",\"f\",\"g\",\"h\",\"i\",\"j\",\"k\",\"l\",\"m\",\"n\",\"o\",\"p\",\"q\",\"r\",\"s\",\"t\",\"u\",\"v\",\"w\",\"x\",\"y\",\"z\",\"ab\",\"cd\",\"ef\",\"gh\",\"ij\",\"kl\"]\n",
        "data=pd.read_csv(\"wdbc.data\",header=None,names=names)\n",
        "data5=data.select_dtypes(include=[\"int64\", \"float64\"])\n",
        "data5.head(5)"
      ],
      "metadata": {
        "colab": {
          "base_uri": "https://localhost:8080/",
          "height": 236
        },
        "id": "nqmR-50qqMio",
        "outputId": "a931cd06-058e-42c5-e22e-cb26fb1e0433"
      },
      "execution_count": null,
      "outputs": [
        {
          "output_type": "execute_result",
          "data": {
            "text/plain": [
              "          a      c      d       e       f        g        h       i        j  \\\n",
              "0    842302  17.99  10.38  122.80  1001.0  0.11840  0.27760  0.3001  0.14710   \n",
              "1    842517  20.57  17.77  132.90  1326.0  0.08474  0.07864  0.0869  0.07017   \n",
              "2  84300903  19.69  21.25  130.00  1203.0  0.10960  0.15990  0.1974  0.12790   \n",
              "3  84348301  11.42  20.38   77.58   386.1  0.14250  0.28390  0.2414  0.10520   \n",
              "4  84358402  20.29  14.34  135.10  1297.0  0.10030  0.13280  0.1980  0.10430   \n",
              "\n",
              "        k  ...      w      x       y       z      ab      cd      ef      gh  \\\n",
              "0  0.2419  ...  25.38  17.33  184.60  2019.0  0.1622  0.6656  0.7119  0.2654   \n",
              "1  0.1812  ...  24.99  23.41  158.80  1956.0  0.1238  0.1866  0.2416  0.1860   \n",
              "2  0.2069  ...  23.57  25.53  152.50  1709.0  0.1444  0.4245  0.4504  0.2430   \n",
              "3  0.2597  ...  14.91  26.50   98.87   567.7  0.2098  0.8663  0.6869  0.2575   \n",
              "4  0.1809  ...  22.54  16.67  152.20  1575.0  0.1374  0.2050  0.4000  0.1625   \n",
              "\n",
              "       ij       kl  \n",
              "0  0.4601  0.11890  \n",
              "1  0.2750  0.08902  \n",
              "2  0.3613  0.08758  \n",
              "3  0.6638  0.17300  \n",
              "4  0.2364  0.07678  \n",
              "\n",
              "[5 rows x 31 columns]"
            ],
            "text/html": [
              "\n",
              "  <div id=\"df-ffabbcb8-718e-4093-8c6a-2ad84ea6ffbd\">\n",
              "    <div class=\"colab-df-container\">\n",
              "      <div>\n",
              "<style scoped>\n",
              "    .dataframe tbody tr th:only-of-type {\n",
              "        vertical-align: middle;\n",
              "    }\n",
              "\n",
              "    .dataframe tbody tr th {\n",
              "        vertical-align: top;\n",
              "    }\n",
              "\n",
              "    .dataframe thead th {\n",
              "        text-align: right;\n",
              "    }\n",
              "</style>\n",
              "<table border=\"1\" class=\"dataframe\">\n",
              "  <thead>\n",
              "    <tr style=\"text-align: right;\">\n",
              "      <th></th>\n",
              "      <th>a</th>\n",
              "      <th>c</th>\n",
              "      <th>d</th>\n",
              "      <th>e</th>\n",
              "      <th>f</th>\n",
              "      <th>g</th>\n",
              "      <th>h</th>\n",
              "      <th>i</th>\n",
              "      <th>j</th>\n",
              "      <th>k</th>\n",
              "      <th>...</th>\n",
              "      <th>w</th>\n",
              "      <th>x</th>\n",
              "      <th>y</th>\n",
              "      <th>z</th>\n",
              "      <th>ab</th>\n",
              "      <th>cd</th>\n",
              "      <th>ef</th>\n",
              "      <th>gh</th>\n",
              "      <th>ij</th>\n",
              "      <th>kl</th>\n",
              "    </tr>\n",
              "  </thead>\n",
              "  <tbody>\n",
              "    <tr>\n",
              "      <th>0</th>\n",
              "      <td>842302</td>\n",
              "      <td>17.99</td>\n",
              "      <td>10.38</td>\n",
              "      <td>122.80</td>\n",
              "      <td>1001.0</td>\n",
              "      <td>0.11840</td>\n",
              "      <td>0.27760</td>\n",
              "      <td>0.3001</td>\n",
              "      <td>0.14710</td>\n",
              "      <td>0.2419</td>\n",
              "      <td>...</td>\n",
              "      <td>25.38</td>\n",
              "      <td>17.33</td>\n",
              "      <td>184.60</td>\n",
              "      <td>2019.0</td>\n",
              "      <td>0.1622</td>\n",
              "      <td>0.6656</td>\n",
              "      <td>0.7119</td>\n",
              "      <td>0.2654</td>\n",
              "      <td>0.4601</td>\n",
              "      <td>0.11890</td>\n",
              "    </tr>\n",
              "    <tr>\n",
              "      <th>1</th>\n",
              "      <td>842517</td>\n",
              "      <td>20.57</td>\n",
              "      <td>17.77</td>\n",
              "      <td>132.90</td>\n",
              "      <td>1326.0</td>\n",
              "      <td>0.08474</td>\n",
              "      <td>0.07864</td>\n",
              "      <td>0.0869</td>\n",
              "      <td>0.07017</td>\n",
              "      <td>0.1812</td>\n",
              "      <td>...</td>\n",
              "      <td>24.99</td>\n",
              "      <td>23.41</td>\n",
              "      <td>158.80</td>\n",
              "      <td>1956.0</td>\n",
              "      <td>0.1238</td>\n",
              "      <td>0.1866</td>\n",
              "      <td>0.2416</td>\n",
              "      <td>0.1860</td>\n",
              "      <td>0.2750</td>\n",
              "      <td>0.08902</td>\n",
              "    </tr>\n",
              "    <tr>\n",
              "      <th>2</th>\n",
              "      <td>84300903</td>\n",
              "      <td>19.69</td>\n",
              "      <td>21.25</td>\n",
              "      <td>130.00</td>\n",
              "      <td>1203.0</td>\n",
              "      <td>0.10960</td>\n",
              "      <td>0.15990</td>\n",
              "      <td>0.1974</td>\n",
              "      <td>0.12790</td>\n",
              "      <td>0.2069</td>\n",
              "      <td>...</td>\n",
              "      <td>23.57</td>\n",
              "      <td>25.53</td>\n",
              "      <td>152.50</td>\n",
              "      <td>1709.0</td>\n",
              "      <td>0.1444</td>\n",
              "      <td>0.4245</td>\n",
              "      <td>0.4504</td>\n",
              "      <td>0.2430</td>\n",
              "      <td>0.3613</td>\n",
              "      <td>0.08758</td>\n",
              "    </tr>\n",
              "    <tr>\n",
              "      <th>3</th>\n",
              "      <td>84348301</td>\n",
              "      <td>11.42</td>\n",
              "      <td>20.38</td>\n",
              "      <td>77.58</td>\n",
              "      <td>386.1</td>\n",
              "      <td>0.14250</td>\n",
              "      <td>0.28390</td>\n",
              "      <td>0.2414</td>\n",
              "      <td>0.10520</td>\n",
              "      <td>0.2597</td>\n",
              "      <td>...</td>\n",
              "      <td>14.91</td>\n",
              "      <td>26.50</td>\n",
              "      <td>98.87</td>\n",
              "      <td>567.7</td>\n",
              "      <td>0.2098</td>\n",
              "      <td>0.8663</td>\n",
              "      <td>0.6869</td>\n",
              "      <td>0.2575</td>\n",
              "      <td>0.6638</td>\n",
              "      <td>0.17300</td>\n",
              "    </tr>\n",
              "    <tr>\n",
              "      <th>4</th>\n",
              "      <td>84358402</td>\n",
              "      <td>20.29</td>\n",
              "      <td>14.34</td>\n",
              "      <td>135.10</td>\n",
              "      <td>1297.0</td>\n",
              "      <td>0.10030</td>\n",
              "      <td>0.13280</td>\n",
              "      <td>0.1980</td>\n",
              "      <td>0.10430</td>\n",
              "      <td>0.1809</td>\n",
              "      <td>...</td>\n",
              "      <td>22.54</td>\n",
              "      <td>16.67</td>\n",
              "      <td>152.20</td>\n",
              "      <td>1575.0</td>\n",
              "      <td>0.1374</td>\n",
              "      <td>0.2050</td>\n",
              "      <td>0.4000</td>\n",
              "      <td>0.1625</td>\n",
              "      <td>0.2364</td>\n",
              "      <td>0.07678</td>\n",
              "    </tr>\n",
              "  </tbody>\n",
              "</table>\n",
              "<p>5 rows × 31 columns</p>\n",
              "</div>\n",
              "      <button class=\"colab-df-convert\" onclick=\"convertToInteractive('df-ffabbcb8-718e-4093-8c6a-2ad84ea6ffbd')\"\n",
              "              title=\"Convert this dataframe to an interactive table.\"\n",
              "              style=\"display:none;\">\n",
              "        \n",
              "  <svg xmlns=\"http://www.w3.org/2000/svg\" height=\"24px\"viewBox=\"0 0 24 24\"\n",
              "       width=\"24px\">\n",
              "    <path d=\"M0 0h24v24H0V0z\" fill=\"none\"/>\n",
              "    <path d=\"M18.56 5.44l.94 2.06.94-2.06 2.06-.94-2.06-.94-.94-2.06-.94 2.06-2.06.94zm-11 1L8.5 8.5l.94-2.06 2.06-.94-2.06-.94L8.5 2.5l-.94 2.06-2.06.94zm10 10l.94 2.06.94-2.06 2.06-.94-2.06-.94-.94-2.06-.94 2.06-2.06.94z\"/><path d=\"M17.41 7.96l-1.37-1.37c-.4-.4-.92-.59-1.43-.59-.52 0-1.04.2-1.43.59L10.3 9.45l-7.72 7.72c-.78.78-.78 2.05 0 2.83L4 21.41c.39.39.9.59 1.41.59.51 0 1.02-.2 1.41-.59l7.78-7.78 2.81-2.81c.8-.78.8-2.07 0-2.86zM5.41 20L4 18.59l7.72-7.72 1.47 1.35L5.41 20z\"/>\n",
              "  </svg>\n",
              "      </button>\n",
              "      \n",
              "  <style>\n",
              "    .colab-df-container {\n",
              "      display:flex;\n",
              "      flex-wrap:wrap;\n",
              "      gap: 12px;\n",
              "    }\n",
              "\n",
              "    .colab-df-convert {\n",
              "      background-color: #E8F0FE;\n",
              "      border: none;\n",
              "      border-radius: 50%;\n",
              "      cursor: pointer;\n",
              "      display: none;\n",
              "      fill: #1967D2;\n",
              "      height: 32px;\n",
              "      padding: 0 0 0 0;\n",
              "      width: 32px;\n",
              "    }\n",
              "\n",
              "    .colab-df-convert:hover {\n",
              "      background-color: #E2EBFA;\n",
              "      box-shadow: 0px 1px 2px rgba(60, 64, 67, 0.3), 0px 1px 3px 1px rgba(60, 64, 67, 0.15);\n",
              "      fill: #174EA6;\n",
              "    }\n",
              "\n",
              "    [theme=dark] .colab-df-convert {\n",
              "      background-color: #3B4455;\n",
              "      fill: #D2E3FC;\n",
              "    }\n",
              "\n",
              "    [theme=dark] .colab-df-convert:hover {\n",
              "      background-color: #434B5C;\n",
              "      box-shadow: 0px 1px 3px 1px rgba(0, 0, 0, 0.15);\n",
              "      filter: drop-shadow(0px 1px 2px rgba(0, 0, 0, 0.3));\n",
              "      fill: #FFFFFF;\n",
              "    }\n",
              "  </style>\n",
              "\n",
              "      <script>\n",
              "        const buttonEl =\n",
              "          document.querySelector('#df-ffabbcb8-718e-4093-8c6a-2ad84ea6ffbd button.colab-df-convert');\n",
              "        buttonEl.style.display =\n",
              "          google.colab.kernel.accessAllowed ? 'block' : 'none';\n",
              "\n",
              "        async function convertToInteractive(key) {\n",
              "          const element = document.querySelector('#df-ffabbcb8-718e-4093-8c6a-2ad84ea6ffbd');\n",
              "          const dataTable =\n",
              "            await google.colab.kernel.invokeFunction('convertToInteractive',\n",
              "                                                     [key], {});\n",
              "          if (!dataTable) return;\n",
              "\n",
              "          const docLinkHtml = 'Like what you see? Visit the ' +\n",
              "            '<a target=\"_blank\" href=https://colab.research.google.com/notebooks/data_table.ipynb>data table notebook</a>'\n",
              "            + ' to learn more about interactive tables.';\n",
              "          element.innerHTML = '';\n",
              "          dataTable['output_type'] = 'display_data';\n",
              "          await google.colab.output.renderOutput(dataTable, element);\n",
              "          const docLink = document.createElement('div');\n",
              "          docLink.innerHTML = docLinkHtml;\n",
              "          element.appendChild(docLink);\n",
              "        }\n",
              "      </script>\n",
              "    </div>\n",
              "  </div>\n",
              "  "
            ]
          },
          "metadata": {},
          "execution_count": 64
        }
      ]
    },
    {
      "cell_type": "code",
      "source": [
        "#Matrix de correlación o medición de coeficiente de correlación lineal.\n",
        "plt.figure(figsize=(20,10))\n",
        "# Define la máscara para establecer los valores en el triángulo superior en Verdadero\n",
        "mask = np.triu(np.ones_like(data5.corr(), dtype=np.bool))\n",
        "heatmap = sns.heatmap(data5.corr(), mask=mask, vmin=-1, vmax=1, annot=True, cmap='PuOr')\n",
        "heatmap.set_title('Mapa de calor de correlación de triángulos', fontdict={'fontsize':18}, pad=16);\n",
        "plt.show()"
      ],
      "metadata": {
        "id": "Y5VbRf2H-Hok",
        "colab": {
          "base_uri": "https://localhost:8080/",
          "height": 694
        },
        "outputId": "2b55f2b9-ff47-4939-db34-6c7740c96a1d"
      },
      "execution_count": null,
      "outputs": [
        {
          "output_type": "stream",
          "name": "stderr",
          "text": [
            "/usr/local/lib/python3.7/dist-packages/ipykernel_launcher.py:4: DeprecationWarning: `np.bool` is a deprecated alias for the builtin `bool`. To silence this warning, use `bool` by itself. Doing this will not modify any behavior and is safe. If you specifically wanted the numpy scalar type, use `np.bool_` here.\n",
            "Deprecated in NumPy 1.20; for more details and guidance: https://numpy.org/devdocs/release/1.20.0-notes.html#deprecations\n",
            "  after removing the cwd from sys.path.\n"
          ]
        },
        {
          "output_type": "display_data",
          "data": {
            "text/plain": [
              "<Figure size 1440x720 with 2 Axes>"
            ],
            "image/png": "[encoded data removed]"
          },
          "metadata": {
            "needs_background": "light"
          }
        }
      ]
    },
    {
      "cell_type": "markdown",
      "source": [
        "**Me indica cuanta correlacion hay entre los Y y las X, los colores morados más oscuros presentan buena relaciones entre variables. La variable independiente es c-Perímetro y las variables corelacionadas altamente con este son j-dimensión fractal, f-compacidad y e-suavidad.**"
      ],
      "metadata": {
        "id": "dD6meCyvmqLK"
      }
    },
    {
      "cell_type": "code",
      "source": [
        "plt.figure(figsize=(30,6))\n",
        "plt.subplot(131)\n",
        "plt.scatter(data5[\"c\"],data5[\"j\"],marker='^',c=\"red\")\n",
        "plt.xlabel(\"c\")\n",
        "plt.ylabel(\"j\")\n",
        "plt.subplot(132)\n",
        "plt.scatter(data5[\"c\"],data5[\"f\"],c=\"purple\",marker=r'$\\clubsuit$')\n",
        "plt.xlabel(\"c\")\n",
        "plt.ylabel(\"f\")\n",
        "plt.subplot(133)\n",
        "plt.scatter(data5[\"c\"],data5[\"e\"])\n",
        "plt.xlabel(\"c\")\n",
        "plt.ylabel(\"e\")\n",
        "plt.show()"
      ],
      "metadata": {
        "colab": {
          "base_uri": "https://localhost:8080/",
          "height": 388
        },
        "id": "NJvvd1j7mncn",
        "outputId": "e0e63215-55a0-462a-b837-346db2ea92ac"
      },
      "execution_count": null,
      "outputs": [
        {
          "output_type": "display_data",
          "data": {
            "text/plain": [
              "<Figure size 2160x432 with 3 Axes>"
            ],
            "image/png": "[encoded data removed]"
          },
          "metadata": {
            "needs_background": "light"
          }
        }
      ]
    },
    {
      "cell_type": "code",
      "source": [
        "# Usando Scipy\n",
        "from scipy import optimize\n",
        "import random"
      ],
      "metadata": {
        "id": "_pWmheXWmvgp"
      },
      "execution_count": null,
      "outputs": []
    },
    {
      "cell_type": "code",
      "source": [
        "def f( x, p0, p1, p2):\n",
        "    return p0+p1*x+p2*x**2\n",
        "\n",
        "def ff(x, p):\n",
        "    return f(x, *p)"
      ],
      "metadata": {
        "id": "yVEDAvLImvsY"
      },
      "execution_count": null,
      "outputs": []
    },
    {
      "cell_type": "code",
      "source": [
        "# Usando optimizar.leastsq\n",
        "def fit_leastsq(p0, datax, datay, function):\n",
        "\n",
        "    errfunc = lambda p, x, y: function(x,p) - y\n",
        "\n",
        "    pfit, pcov, infodict, errmsg, success = optimize.leastsq(errfunc, p0, args=(datax, datay), full_output=1, epsfcn=0.0001)\n",
        "\n",
        "    if (len(datay) > len(p0)) and pcov is not None:\n",
        "        s_sq = (errfunc(pfit, datax, datay)**2).sum()/(len(datay)-len(p0))\n",
        "        pcov = pcov * s_sq\n",
        "    else:\n",
        "        pcov = np.inf\n",
        "\n",
        "    error = [] \n",
        "    for i in range(len(pfit)):\n",
        "        try:\n",
        "            error.append(np.absolute(pcov[i][i])**0.5)\n",
        "        except:\n",
        "            error.append( 0.00 )\n",
        "    pfit_leastsq = pfit\n",
        "    perr_leastsq = np.array(error) \n",
        "    return pfit_leastsq, perr_leastsq "
      ],
      "metadata": {
        "id": "J8Wj7VP6mvzn"
      },
      "execution_count": null,
      "outputs": []
    },
    {
      "cell_type": "code",
      "source": [
        "# Estos son los verdaderos parámetros\n",
        "p0,p1,p2 = 1.0, 1.0,1.0\n",
        "# Estas son conjeturas iniciales para ajustes:\n",
        "pstart = [p0+random.random(),p1+random.random(),p2+random.random()]\n",
        "pfit1, perr1 = fit_leastsq(pstart, data[\"c\"], data[\"f\"], ff)\n",
        "\n",
        "print(\"\\n# Ajustar parámetros y errores de parámetros del método lestsq :\")\n",
        "print(\"pfit = \", pfit1) # Coeficientes calculando la relacion. yo tengo una relacion entre y y x de tanto con un error de tanto\n",
        "print(\"perr = \", perr1) # Error de los coeficientes"
      ],
      "metadata": {
        "colab": {
          "base_uri": "https://localhost:8080/"
        },
        "id": "3LB4DBm2m1uh",
        "outputId": "f20707aa-3487-410b-edb9-d0feb5e1a936"
      },
      "execution_count": null,
      "outputs": [
        {
          "output_type": "stream",
          "name": "stdout",
          "text": [
            "\n",
            "# Ajustar parámetros y errores de parámetros del método lestsq :\n",
            "pfit =  [-10.5164038    0.43684601   3.10992516]\n",
            "perr =  [8.74880281 1.14249278 0.03576614]\n"
          ]
        }
      ]
    },
    {
      "cell_type": "code",
      "source": [
        "from sklearn.metrics import r2_score\n",
        "r2 = r2_score(data[\"f\"], f(x0,*pfit1))\n",
        "print('r2 la puntuación para el modelo perfecto es', r2)"
      ],
      "metadata": {
        "colab": {
          "base_uri": "https://localhost:8080/"
        },
        "id": "PX8Hfh5Bqy-f",
        "outputId": "fc9b61ec-e796-4b9d-8b21-a76be9891937"
      },
      "execution_count": null,
      "outputs": [
        {
          "output_type": "stream",
          "name": "stdout",
          "text": [
            "r2 la puntuación para el modelo perfecto es 0.9982500396724502\n"
          ]
        }
      ]
    },
    {
      "cell_type": "code",
      "source": [
        "# Usando bootstrap\n",
        "def fit_bootstrap(p0, datax, datay, function, yerr_systematic=0.0):\n",
        "\n",
        "    errfunc = lambda p, x, y: function(x,p) - y\n",
        "\n",
        "    # Ajuste la primera vez\n",
        "    pfit, perr = optimize.leastsq(errfunc, p0, args=(datax, datay), full_output=0)\n",
        "\n",
        "\n",
        "    # Obtener la desviación estándar de los residuos\n",
        "    residuals = errfunc(pfit, datax, datay)\n",
        "    sigma_res = np.std(residuals)\n",
        "\n",
        "    sigma_err_total = np.sqrt(sigma_res**2 + yerr_systematic**2)\n",
        "\n",
        "    # Se generan y ajustan 100 conjuntos de datos aleatorios\n",
        "    ps = []\n",
        "    for i in range(100):\n",
        "\n",
        "        randomDelta = np.random.normal(0., sigma_err_total, len(datay))\n",
        "        randomdataY = datay + randomDelta\n",
        "        randomfit, randomcov = optimize.leastsq(errfunc, p0, args=(datax, randomdataY), full_output=0)\n",
        "        ps.append(randomfit) \n",
        "\n",
        "    ps = np.array(ps)\n",
        "    mean_pfit = np.mean(ps,0)\n",
        "\n",
        "    # Puede elegir el intervalo de confianza que desee para su\n",
        "    # estimaciones de parámetros:\n",
        "    Nsigma = 1. # 1sigma obtiene aproximadamente lo mismo que los métodos anteriores\n",
        "                # 1sigma corresponde al intervalo de confianza del 68,3%\n",
        "                # 2sigma corresponde al intervalo de confianza del 95,44 %\n",
        "    err_pfit = Nsigma * np.std(ps,0) \n",
        "\n",
        "    pfit_bootstrap = mean_pfit\n",
        "    perr_bootstrap = err_pfit\n",
        "    return pfit_bootstrap, perr_bootstrap \n",
        "\n",
        "pfit, perr = fit_bootstrap(pstart, data[\"c\"], data[\"f\"], ff)\n",
        "print(\"\\n# Ajustar parámetros y errores de parámetros del método de arranque :\")\n",
        "print(\"pfit = \", pfit)\n",
        "print(\"perr = \", perr)"
      ],
      "metadata": {
        "colab": {
          "base_uri": "https://localhost:8080/"
        },
        "id": "Bq-dcTiOm14X",
        "outputId": "f12e45bb-7631-4dfc-b22a-89eef34676fa"
      },
      "execution_count": null,
      "outputs": [
        {
          "output_type": "stream",
          "name": "stdout",
          "text": [
            "\n",
            "# Ajustar parámetros y errores de parámetros del método de arranque :\n",
            "pfit =  [-9.79489193  0.38997537  3.10941105]\n",
            "perr =  [8.1512976  1.02283193 0.03114252]\n"
          ]
        }
      ]
    },
    {
      "cell_type": "code",
      "source": [
        "plt.figure(figsize=(30,6))\n",
        "plt.subplot(131)\n",
        "plt.scatter(data[\"c\"],data[\"f\"],label=\"data\",c=\"green\",marker=r'$\\clubsuit$')\n",
        "x0=data[\"c\"]\n",
        "plt.plot(x0,f(x0,*pfit),color=\"r\",label=\"bootstrap regression\")\n",
        "plt.xlabel(\"c\")\n",
        "plt.ylabel(\"f\")\n",
        "plt.legend()\n",
        "plt.subplot(132)\n",
        "plt.scatter(data[\"f\"],f(x0,*pfit),label=\"observed data\")\n",
        "plt.plot(x0,x0,color=\"green\",label=\"perfect fit\")\n",
        "plt.xlabel(\"f\")\n",
        "plt.ylabel(\"f fit from regression\")\n",
        "plt.legend()\n",
        "plt.show()"
      ],
      "metadata": {
        "colab": {
          "base_uri": "https://localhost:8080/",
          "height": 388
        },
        "id": "pInUfnGrnSub",
        "outputId": "b1a72d0e-3ef5-45e4-9517-1b676942006a"
      },
      "execution_count": null,
      "outputs": [
        {
          "output_type": "display_data",
          "data": {
            "text/plain": [
              "<Figure size 2160x432 with 2 Axes>"
            ],
            "image/png": "[encoded data removed]"
          },
          "metadata": {
            "needs_background": "light"
          }
        }
      ]
    },
    {
      "cell_type": "code",
      "source": [
        "err_stdev = 0.2\n",
        "def fit_curvefit(p0, datax, datay, function, yerr=err_stdev, **kwargs):\n",
        "    \"\"\"\n",
        "    Note: As per the current documentation (Scipy V1.1.0), sigma (yerr) must be:\n",
        "        None or M-length sequence or MxM array, optional\n",
        "    Therefore, replace:\n",
        "        err_stdev = 0.2\n",
        "    With:\n",
        "        err_stdev = [0.2 for item in xdata]\n",
        "    Or similar, to create an M-length sequence for this example.\n",
        "    \"\"\"\n",
        "    pfit, pcov = optimize.curve_fit(f,datax,datay,p0=p0, sigma=None, epsfcn=0.0001, **kwargs)\n",
        "    error = [] \n",
        "    for i in range(len(pfit)):\n",
        "        try:\n",
        "            error.append(np.absolute(pcov[i][i])**0.5)\n",
        "        except:\n",
        "            error.append( 0.00 )\n",
        "    pfit_curvefit = pfit\n",
        "    perr_curvefit = np.array(error)\n",
        "    return pfit_curvefit, perr_curvefit \n",
        "\n",
        "pfit, perr = fit_curvefit(pstart, data[\"c\"], data[\"f\"], ff)\n",
        "\n",
        "print(\"\\n# Ajustar parámetros y errores de parámetros del método curve_fit :\")\n",
        "print(\"pfit = \", pfit)\n",
        "print(\"perr = \", perr)"
      ],
      "metadata": {
        "colab": {
          "base_uri": "https://localhost:8080/"
        },
        "id": "4WMU7ptHqmhL",
        "outputId": "b37e954f-d1a1-44ce-de87-012a3723ab59"
      },
      "execution_count": null,
      "outputs": [
        {
          "output_type": "stream",
          "name": "stdout",
          "text": [
            "\n",
            "# Ajustar parámetros y errores de parámetros del método curve_fit :\n",
            "pfit =  [-10.5164038    0.43684601   3.10992516]\n",
            "perr =  [8.74880281 1.14249278 0.03576614]\n"
          ]
        }
      ]
    },
    {
      "cell_type": "code",
      "source": [
        "from sklearn.metrics import r2_score\n",
        "r2 = r2_score(data[\"f\"], f(x0,*pfit))\n",
        "print('r2 la puntuación para el modelo perfecto es', r2)"
      ],
      "metadata": {
        "colab": {
          "base_uri": "https://localhost:8080/"
        },
        "id": "mbfop2A2sNvP",
        "outputId": "86cb62be-4cbf-4c38-ba49-92c6f86a5cd3"
      },
      "execution_count": null,
      "outputs": [
        {
          "output_type": "stream",
          "name": "stdout",
          "text": [
            "r2 la puntuación para el modelo perfecto es 0.9982500396724502\n"
          ]
        }
      ]
    },
    {
      "cell_type": "code",
      "source": [
        "datos=pd.DataFrame({\"A\":[-10.5164038,-9.79489193,-10.5164038],\"B\":[0.43684601,0.38997537,0.43684601],\"C\":[3.10992516,3.10941105,3.10992516 ],\"R2\":[0.9982499248802128,0.9982499248802128,0.9982500396724502],\"CVA\":[(-10.5164038/8.748802819)*100, (-9.79489193/8.1512976)*100, (-10.5164038/8.74880281)*100],\"CVB\":[(0.43684601/1.14249278)*100, (0.38997537/1.02283193)*100, (0.43684601/1.14249278)*100],\"CVC\":[(3.10992516/0.03576614)*100, (3.10941105/0.03114252)*100, (3.10992516/0.03576614)*100]}, index=[\"optimize.leastsq\",\"bootstrap\", \"optimize.curve_fit\"])\n",
        "datos"
      ],
      "metadata": {
        "colab": {
          "base_uri": "https://localhost:8080/",
          "height": 143
        },
        "id": "46Vg2htvsPj2",
        "outputId": "5af74db1-2676-4065-be63-012de40c2b93"
      },
      "execution_count": null,
      "outputs": [
        {
          "output_type": "execute_result",
          "data": {
            "text/plain": [
              "                            A         B         C       R2         CVA  \\\n",
              "optimize.leastsq   -10.516404  0.436846  3.109925  0.99825 -120.203918   \n",
              "bootstrap           -9.794892  0.389975  3.109411  0.99825 -120.163591   \n",
              "optimize.curve_fit -10.516404  0.436846  3.109925  0.99825 -120.203919   \n",
              "\n",
              "                          CVB          CVC  \n",
              "optimize.leastsq    38.236216  8695.165763  \n",
              "bootstrap           38.127023  9984.455497  \n",
              "optimize.curve_fit  38.236216  8695.165763  "
            ],
            "text/html": [
              "\n",
              "  <div id=\"df-623f8f2d-6d41-42d2-acca-e77b9315ec09\">\n",
              "    <div class=\"colab-df-container\">\n",
              "      <div>\n",
              "<style scoped>\n",
              "    .dataframe tbody tr th:only-of-type {\n",
              "        vertical-align: middle;\n",
              "    }\n",
              "\n",
              "    .dataframe tbody tr th {\n",
              "        vertical-align: top;\n",
              "    }\n",
              "\n",
              "    .dataframe thead th {\n",
              "        text-align: right;\n",
              "    }\n",
              "</style>\n",
              "<table border=\"1\" class=\"dataframe\">\n",
              "  <thead>\n",
              "    <tr style=\"text-align: right;\">\n",
              "      <th></th>\n",
              "      <th>A</th>\n",
              "      <th>B</th>\n",
              "      <th>C</th>\n",
              "      <th>R2</th>\n",
              "      <th>CVA</th>\n",
              "      <th>CVB</th>\n",
              "      <th>CVC</th>\n",
              "    </tr>\n",
              "  </thead>\n",
              "  <tbody>\n",
              "    <tr>\n",
              "      <th>optimize.leastsq</th>\n",
              "      <td>-10.516404</td>\n",
              "      <td>0.436846</td>\n",
              "      <td>3.109925</td>\n",
              "      <td>0.99825</td>\n",
              "      <td>-120.203918</td>\n",
              "      <td>38.236216</td>\n",
              "      <td>8695.165763</td>\n",
              "    </tr>\n",
              "    <tr>\n",
              "      <th>bootstrap</th>\n",
              "      <td>-9.794892</td>\n",
              "      <td>0.389975</td>\n",
              "      <td>3.109411</td>\n",
              "      <td>0.99825</td>\n",
              "      <td>-120.163591</td>\n",
              "      <td>38.127023</td>\n",
              "      <td>9984.455497</td>\n",
              "    </tr>\n",
              "    <tr>\n",
              "      <th>optimize.curve_fit</th>\n",
              "      <td>-10.516404</td>\n",
              "      <td>0.436846</td>\n",
              "      <td>3.109925</td>\n",
              "      <td>0.99825</td>\n",
              "      <td>-120.203919</td>\n",
              "      <td>38.236216</td>\n",
              "      <td>8695.165763</td>\n",
              "    </tr>\n",
              "  </tbody>\n",
              "</table>\n",
              "</div>\n",
              "      <button class=\"colab-df-convert\" onclick=\"convertToInteractive('df-623f8f2d-6d41-42d2-acca-e77b9315ec09')\"\n",
              "              title=\"Convert this dataframe to an interactive table.\"\n",
              "              style=\"display:none;\">\n",
              "        \n",
              "  <svg xmlns=\"http://www.w3.org/2000/svg\" height=\"24px\"viewBox=\"0 0 24 24\"\n",
              "       width=\"24px\">\n",
              "    <path d=\"M0 0h24v24H0V0z\" fill=\"none\"/>\n",
              "    <path d=\"M18.56 5.44l.94 2.06.94-2.06 2.06-.94-2.06-.94-.94-2.06-.94 2.06-2.06.94zm-11 1L8.5 8.5l.94-2.06 2.06-.94-2.06-.94L8.5 2.5l-.94 2.06-2.06.94zm10 10l.94 2.06.94-2.06 2.06-.94-2.06-.94-.94-2.06-.94 2.06-2.06.94z\"/><path d=\"M17.41 7.96l-1.37-1.37c-.4-.4-.92-.59-1.43-.59-.52 0-1.04.2-1.43.59L10.3 9.45l-7.72 7.72c-.78.78-.78 2.05 0 2.83L4 21.41c.39.39.9.59 1.41.59.51 0 1.02-.2 1.41-.59l7.78-7.78 2.81-2.81c.8-.78.8-2.07 0-2.86zM5.41 20L4 18.59l7.72-7.72 1.47 1.35L5.41 20z\"/>\n",
              "  </svg>\n",
              "      </button>\n",
              "      \n",
              "  <style>\n",
              "    .colab-df-container {\n",
              "      display:flex;\n",
              "      flex-wrap:wrap;\n",
              "      gap: 12px;\n",
              "    }\n",
              "\n",
              "    .colab-df-convert {\n",
              "      background-color: #E8F0FE;\n",
              "      border: none;\n",
              "      border-radius: 50%;\n",
              "      cursor: pointer;\n",
              "      display: none;\n",
              "      fill: #1967D2;\n",
              "      height: 32px;\n",
              "      padding: 0 0 0 0;\n",
              "      width: 32px;\n",
              "    }\n",
              "\n",
              "    .colab-df-convert:hover {\n",
              "      background-color: #E2EBFA;\n",
              "      box-shadow: 0px 1px 2px rgba(60, 64, 67, 0.3), 0px 1px 3px 1px rgba(60, 64, 67, 0.15);\n",
              "      fill: #174EA6;\n",
              "    }\n",
              "\n",
              "    [theme=dark] .colab-df-convert {\n",
              "      background-color: #3B4455;\n",
              "      fill: #D2E3FC;\n",
              "    }\n",
              "\n",
              "    [theme=dark] .colab-df-convert:hover {\n",
              "      background-color: #434B5C;\n",
              "      box-shadow: 0px 1px 3px 1px rgba(0, 0, 0, 0.15);\n",
              "      filter: drop-shadow(0px 1px 2px rgba(0, 0, 0, 0.3));\n",
              "      fill: #FFFFFF;\n",
              "    }\n",
              "  </style>\n",
              "\n",
              "      <script>\n",
              "        const buttonEl =\n",
              "          document.querySelector('#df-623f8f2d-6d41-42d2-acca-e77b9315ec09 button.colab-df-convert');\n",
              "        buttonEl.style.display =\n",
              "          google.colab.kernel.accessAllowed ? 'block' : 'none';\n",
              "\n",
              "        async function convertToInteractive(key) {\n",
              "          const element = document.querySelector('#df-623f8f2d-6d41-42d2-acca-e77b9315ec09');\n",
              "          const dataTable =\n",
              "            await google.colab.kernel.invokeFunction('convertToInteractive',\n",
              "                                                     [key], {});\n",
              "          if (!dataTable) return;\n",
              "\n",
              "          const docLinkHtml = 'Like what you see? Visit the ' +\n",
              "            '<a target=\"_blank\" href=https://colab.research.google.com/notebooks/data_table.ipynb>data table notebook</a>'\n",
              "            + ' to learn more about interactive tables.';\n",
              "          element.innerHTML = '';\n",
              "          dataTable['output_type'] = 'display_data';\n",
              "          await google.colab.output.renderOutput(dataTable, element);\n",
              "          const docLink = document.createElement('div');\n",
              "          docLink.innerHTML = docLinkHtml;\n",
              "          element.appendChild(docLink);\n",
              "        }\n",
              "      </script>\n",
              "    </div>\n",
              "  </div>\n",
              "  "
            ]
          },
          "metadata": {},
          "execution_count": 81
        }
      ]
    },
    {
      "cell_type": "code",
      "source": [
        "#R CUADRADO\n",
        "def r2_hand(y,yhat):\n",
        "    SST=np.sum((y-np.mean(y))**2)\n",
        "    SSE=np.sum((y-yhat)**2)\n",
        "    R2=(SST-SSE)/SST\n",
        "    return R2\n",
        "\n",
        "print('r2 score for perfect model is', r3_hand(data[\"c\"], f(data[\"f\"],*pfit)))"
      ],
      "metadata": {
        "colab": {
          "base_uri": "https://localhost:8080/"
        },
        "id": "vSuNeFntsW7m",
        "outputId": "4a946db1-c6ca-4b7e-9153-57cc4bef3c26"
      },
      "execution_count": null,
      "outputs": [
        {
          "output_type": "stream",
          "name": "stdout",
          "text": [
            "r2 score for perfect model is -616427072043.174\n"
          ]
        }
      ]
    },
    {
      "cell_type": "code",
      "source": [
        "import statsmodels.api as sm\n",
        "from statsmodels.tools.eval_measures import rmse\n",
        "from statsmodels.stats.outliers_influence import variance_inflation_factor \n",
        "\n",
        "X = data['c']   # Variable independiente\n",
        "y = data['f']   # Variable dependiente\n",
        "\n",
        "# para obtener intercepción -- esto es opcional\n",
        "X = sm.add_constant(X)\n",
        "\n",
        "# Ajustar el modelo de regresión\n",
        "reg = sm.OLS(y, X).fit()\n",
        "reg.summary()"
      ],
      "metadata": {
        "colab": {
          "base_uri": "https://localhost:8080/",
          "height": 486
        },
        "id": "d7dmIQVR0QQc",
        "outputId": "9568fcaf-0c59-4d1e-ea43-3706f2c7ecb7"
      },
      "execution_count": null,
      "outputs": [
        {
          "output_type": "stream",
          "name": "stderr",
          "text": [
            "/usr/local/lib/python3.7/dist-packages/statsmodels/tsa/tsatools.py:117: FutureWarning: In a future version of pandas all arguments of concat except for the argument 'objs' will be keyword-only\n",
            "  x = pd.concat(x[::order], 1)\n"
          ]
        },
        {
          "output_type": "execute_result",
          "data": {
            "text/plain": [
              "<class 'statsmodels.iolib.summary.Summary'>\n",
              "\"\"\"\n",
              "                            OLS Regression Results                            \n",
              "==============================================================================\n",
              "Dep. Variable:                      f   R-squared:                       0.975\n",
              "Model:                            OLS   Adj. R-squared:                  0.975\n",
              "Method:                 Least Squares   F-statistic:                 2.200e+04\n",
              "Date:                Wed, 27 Apr 2022   Prob (F-statistic):               0.00\n",
              "Time:                        02:29:24   Log-Likelihood:                -3095.1\n",
              "No. Observations:                 569   AIC:                             6194.\n",
              "Df Residuals:                     567   BIC:                             6203.\n",
              "Df Model:                           1                                         \n",
              "Covariance Type:            nonrobust                                         \n",
              "==============================================================================\n",
              "                 coef    std err          t      P>|t|      [0.025      0.975]\n",
              "------------------------------------------------------------------------------\n",
              "const       -738.0367      9.679    -76.255      0.000    -757.047    -719.027\n",
              "c             98.5982      0.665    148.322      0.000      97.293      99.904\n",
              "==============================================================================\n",
              "Omnibus:                      486.303   Durbin-Watson:                   1.945\n",
              "Prob(Omnibus):                  0.000   Jarque-Bera (JB):            15329.672\n",
              "Skew:                           3.595   Prob(JB):                         0.00\n",
              "Kurtosis:                      27.390   Cond. No.                         60.5\n",
              "==============================================================================\n",
              "\n",
              "Warnings:\n",
              "[1] Standard Errors assume that the covariance matrix of the errors is correctly specified.\n",
              "\"\"\""
            ],
            "text/html": [
              "<table class=\"simpletable\">\n",
              "<caption>OLS Regression Results</caption>\n",
              "<tr>\n",
              "  <th>Dep. Variable:</th>            <td>f</td>        <th>  R-squared:         </th> <td>   0.975</td> \n",
              "</tr>\n",
              "<tr>\n",
              "  <th>Model:</th>                   <td>OLS</td>       <th>  Adj. R-squared:    </th> <td>   0.975</td> \n",
              "</tr>\n",
              "<tr>\n",
              "  <th>Method:</th>             <td>Least Squares</td>  <th>  F-statistic:       </th> <td>2.200e+04</td>\n",
              "</tr>\n",
              "<tr>\n",
              "  <th>Date:</th>             <td>Wed, 27 Apr 2022</td> <th>  Prob (F-statistic):</th>  <td>  0.00</td>  \n",
              "</tr>\n",
              "<tr>\n",
              "  <th>Time:</th>                 <td>02:29:24</td>     <th>  Log-Likelihood:    </th> <td> -3095.1</td> \n",
              "</tr>\n",
              "<tr>\n",
              "  <th>No. Observations:</th>      <td>   569</td>      <th>  AIC:               </th> <td>   6194.</td> \n",
              "</tr>\n",
              "<tr>\n",
              "  <th>Df Residuals:</th>          <td>   567</td>      <th>  BIC:               </th> <td>   6203.</td> \n",
              "</tr>\n",
              "<tr>\n",
              "  <th>Df Model:</th>              <td>     1</td>      <th>                     </th>     <td> </td>    \n",
              "</tr>\n",
              "<tr>\n",
              "  <th>Covariance Type:</th>      <td>nonrobust</td>    <th>                     </th>     <td> </td>    \n",
              "</tr>\n",
              "</table>\n",
              "<table class=\"simpletable\">\n",
              "<tr>\n",
              "    <td></td>       <th>coef</th>     <th>std err</th>      <th>t</th>      <th>P>|t|</th>  <th>[0.025</th>    <th>0.975]</th>  \n",
              "</tr>\n",
              "<tr>\n",
              "  <th>const</th> <td> -738.0367</td> <td>    9.679</td> <td>  -76.255</td> <td> 0.000</td> <td> -757.047</td> <td> -719.027</td>\n",
              "</tr>\n",
              "<tr>\n",
              "  <th>c</th>     <td>   98.5982</td> <td>    0.665</td> <td>  148.322</td> <td> 0.000</td> <td>   97.293</td> <td>   99.904</td>\n",
              "</tr>\n",
              "</table>\n",
              "<table class=\"simpletable\">\n",
              "<tr>\n",
              "  <th>Omnibus:</th>       <td>486.303</td> <th>  Durbin-Watson:     </th> <td>   1.945</td> \n",
              "</tr>\n",
              "<tr>\n",
              "  <th>Prob(Omnibus):</th> <td> 0.000</td>  <th>  Jarque-Bera (JB):  </th> <td>15329.672</td>\n",
              "</tr>\n",
              "<tr>\n",
              "  <th>Skew:</th>          <td> 3.595</td>  <th>  Prob(JB):          </th> <td>    0.00</td> \n",
              "</tr>\n",
              "<tr>\n",
              "  <th>Kurtosis:</th>      <td>27.390</td>  <th>  Cond. No.          </th> <td>    60.5</td> \n",
              "</tr>\n",
              "</table><br/><br/>Warnings:<br/>[1] Standard Errors assume that the covariance matrix of the errors is correctly specified."
            ]
          },
          "metadata": {},
          "execution_count": 85
        }
      ]
    },
    {
      "cell_type": "code",
      "source": [
        "# Importando train_test_split desde sklearn\n",
        "from sklearn.model_selection import train_test_split\n",
        "# Dividir los datos\n",
        "x_train, x_test, y_train, y_test = train_test_split(X, y, test_size = 0.2, random_state = 42)"
      ],
      "metadata": {
        "id": "Y5nyTsXW1IYu"
      },
      "execution_count": null,
      "outputs": []
    },
    {
      "cell_type": "code",
      "source": [
        "# Módulo de importación\n",
        "from sklearn.linear_model import LinearRegression\n",
        "# Creando un objeto de la clase LinearRegression\n",
        "LR = LinearRegression()\n",
        "# Ajustando los datos de entrenamiento\n",
        "LR.fit(x_train,y_train)"
      ],
      "metadata": {
        "colab": {
          "base_uri": "https://localhost:8080/"
        },
        "id": "qzrAwngp3ZPK",
        "outputId": "6414d2c4-33e4-422f-91a6-63e2c1925775"
      },
      "execution_count": null,
      "outputs": [
        {
          "output_type": "execute_result",
          "data": {
            "text/plain": [
              "LinearRegression()"
            ]
          },
          "metadata": {},
          "execution_count": 97
        }
      ]
    },
    {
      "cell_type": "code",
      "source": [
        "y_prediction =  LR.predict(x_test)\n",
        "y_prediction"
      ],
      "metadata": {
        "colab": {
          "base_uri": "https://localhost:8080/"
        },
        "id": "u94_nYyx3bSQ",
        "outputId": "c1253017-429b-433b-94ba-bda65c1fb9e5"
      },
      "execution_count": null,
      "outputs": [
        {
          "output_type": "execute_result",
          "data": {
            "text/plain": [
              "array([ 491.19441148, 1131.98864707,  787.32652344,  484.26155267,\n",
              "        399.08643016, 1296.39644167, 1436.04402625,  996.3026961 ,\n",
              "        577.35994238,  632.82281285,  564.48463317,  918.06043241,\n",
              "        738.79651178,  866.55919554,  478.31910226, 1147.83518149,\n",
              "        722.94997736,  262.41007079,  -52.44075996, 1291.44439967,\n",
              "        622.91872884,  454.54930063, 1396.4276902 ,  249.53476158,\n",
              "        405.02888057,  596.17770201,  571.41749198,  275.28538001,\n",
              "        519.91625511,  959.65758526,  358.47968571,  450.58766703,\n",
              "        221.01099962,  611.03382803,  264.3908876 ,  397.10561336,\n",
              "        842.78939391,  418.89459819, 1063.65046739,  704.13221774,\n",
              "        295.09354803,  749.6910042 ,  406.01928897,  428.7986822 ,\n",
              "        433.75072421,  379.27826214,  176.73974409,  189.41697162,\n",
              "        411.96173938,  532.79156433,  958.66717686, 1101.28598663,\n",
              "        554.58054916,  636.78444646,  434.74113261,  560.52299956,\n",
              "        271.3237464 , 1753.96512304,  591.22566   ,  374.32622013,\n",
              "        529.82033912, 1206.26927716, 1391.47564819,  682.34323291,\n",
              "        474.35746866,  506.0505375 ,  819.01959228, 1254.79928882,\n",
              "        425.827457  ,  541.70523994,  619.94750364,  819.01959228,\n",
              "        648.66934727,  886.36736357,   21.64178846,  590.2352516 ,\n",
              "        645.69812207,  638.76526326,  320.84416647,  372.34540333,\n",
              "        856.65511153,  370.36458653,  690.26650012, 1330.07032731,\n",
              "       1031.95739855,  773.46080583,  490.20400308,  999.27392131,\n",
              "        449.59725863,  529.82033912,  444.64521662,  589.2448432 ,\n",
              "        745.72937059,  365.41254452,  367.39336132,  224.47742903,\n",
              "       1249.84724682,  623.90913724,  360.46050252,  966.59044407,\n",
              "        811.09632507,  220.61483626, 1043.84229936, 1037.89984895,\n",
              "        327.77702527,  419.88500659,  478.31910226, 1543.00813358,\n",
              "        686.30486652,  706.11303454,  847.74143592,  397.10561336,\n",
              "        664.51588169, 1309.27175089])"
            ]
          },
          "metadata": {},
          "execution_count": 88
        }
      ]
    },
    {
      "cell_type": "code",
      "source": [
        "# Importar módulo r2_score\n",
        "from sklearn.metrics import r2_score\n",
        "from sklearn.metrics import mean_squared_error\n",
        "# Predecir la puntuación de precisión\n",
        "score=r2_score(y_test,y_prediction)\n",
        "print(\"r2 la puntuación es \",score)\n",
        "print(\"mean_sqrd_error is==\",mean_squared_error(y_test,y_prediction))\n",
        "print(\"root_mean_squared error of is==\",np.sqrt(mean_squared_error(y_test,y_prediction)))"
      ],
      "metadata": {
        "colab": {
          "base_uri": "https://localhost:8080/"
        },
        "id": "QqNrvZiP3ejK",
        "outputId": "3c207aa8-6713-470c-9608-3e22b4e5600e"
      },
      "execution_count": null,
      "outputs": [
        {
          "output_type": "stream",
          "name": "stdout",
          "text": [
            "r2 la puntuación es  0.9811859948447594\n",
            "mean_sqrd_error is== 2169.4703637097055\n",
            "root_mean_squared error of is== 46.57757361337863\n"
          ]
        }
      ]
    },
    {
      "cell_type": "code",
      "source": [
        "y_prediction_all =  LR.predict(X)"
      ],
      "metadata": {
        "id": "vobks7Pw3fJ2"
      },
      "execution_count": null,
      "outputs": []
    },
    {
      "cell_type": "code",
      "source": [
        "plt.figure(figsize=(30,6))\n",
        "plt.subplot(131)\n",
        "plt.scatter(data[\"c\"],data[\"f\"],label=\"data\")\n",
        "x0=data[\"c\"]\n",
        "plt.plot(x0,f(x0,*pfit),color=\"r\",label=\"Regresión bootstrap \")\n",
        "plt.xlabel(\"f\")\n",
        "plt.ylabel(\"c\")\n",
        "plt.legend()\n",
        "plt.subplot(132)\n",
        "plt.scatter(data[\"c\"],f(x0,*pfit),label=\"Datos observados\")\n",
        "plt.plot(x0,x0,color=\"r\",label=\"Ajuste perfecto\")\n",
        "plt.scatter(y,y_prediction_all,color=\"r\",label=\"Ajuste perfecto Machine Learning\")\n",
        "plt.xlabel(\"c\")\n",
        "plt.ylabel(\"c ajuste de regresión\")\n",
        "plt.legend()\n",
        "plt.show()"
      ],
      "metadata": {
        "colab": {
          "base_uri": "https://localhost:8080/",
          "height": 388
        },
        "id": "4b1lnJge3h8V",
        "outputId": "d0ca12af-d837-4784-86a2-203fa92166ca"
      },
      "execution_count": null,
      "outputs": [
        {
          "output_type": "display_data",
          "data": {
            "text/plain": [
              "<Figure size 2160x432 with 2 Axes>"
            ],
            "image/png": "[encoded data removed]"
          },
          "metadata": {
            "needs_background": "light"
          }
        }
      ]
    },
    {
      "cell_type": "code",
      "source": [
        "# Predecir la puntuación de precisión\n",
        "score=r2_score(y,y_prediction_all)\n",
        "print(\"r2 la puntuación es\",score)\n",
        "print(\"mean_sqrd_error is==\",mean_squared_error(y,y_prediction_all))\n",
        "print(\"root_mean_squared error of is==\",np.sqrt(mean_squared_error(y,y_prediction_all)))"
      ],
      "metadata": {
        "colab": {
          "base_uri": "https://localhost:8080/"
        },
        "id": "0jYyVawH4KVO",
        "outputId": "9f759efb-6263-41f0-fa5e-37c011ae8021"
      },
      "execution_count": null,
      "outputs": [
        {
          "output_type": "stream",
          "name": "stdout",
          "text": [
            "r2 la puntuación es 0.974852934354504\n",
            "mean_sqrd_error is== 3108.828700233072\n",
            "root_mean_squared error of is== 55.75687132751507\n"
          ]
        }
      ]
    },
    {
      "cell_type": "code",
      "source": [
        ""
      ],
      "metadata": {
        "id": "gtUhO3mn4T3v"
      },
      "execution_count": null,
      "outputs": []
    }
  ]
}